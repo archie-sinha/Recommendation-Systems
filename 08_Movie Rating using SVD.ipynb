{
  "cells": [
    {
      "cell_type": "code",
      "execution_count": 21,
      "id": "9522e678",
      "metadata": {
        "id": "9522e678"
      },
      "outputs": [],
      "source": [
        "import pandas as pd\n",
        "import numpy as np\n",
        "import matplotlib.pyplot as plt"
      ]
    },
    {
      "cell_type": "code",
      "execution_count": 22,
      "id": "cc9f3b29",
      "metadata": {
        "id": "cc9f3b29"
      },
      "outputs": [],
      "source": [
        "from sklearn.model_selection import train_test_split\n",
        "from sklearn.metrics import mean_squared_error\n",
        "from math import sqrt"
      ]
    },
    {
      "cell_type": "code",
      "execution_count": 23,
      "id": "c8d3b662",
      "metadata": {
        "id": "c8d3b662",
        "outputId": "502cd896-4bac-4527-d6e4-9b5c49bd31cc",
        "colab": {
          "base_uri": "https://localhost:8080/"
        }
      },
      "outputs": [
        {
          "output_type": "execute_result",
          "data": {
            "text/plain": [
              "array([[1, 3, 4, 2, 1],\n",
              "       [5, 5, 4, 5, 4],\n",
              "       [3, 1, 4, 2, 1],\n",
              "       [2, 5, 5, 4, 2],\n",
              "       [5, 1, 1, 1, 2]])"
            ]
          },
          "metadata": {},
          "execution_count": 23
        }
      ],
      "source": [
        "A = np.random.randint(1,6,size=(5,5))\n",
        "A"
      ]
    },
    {
      "cell_type": "code",
      "execution_count": 24,
      "id": "77790f67",
      "metadata": {
        "id": "77790f67"
      },
      "outputs": [],
      "source": [
        "train_size = 2\n",
        "X_train = A[:train_size, :]\n",
        "X_test = A[train_size:, :]"
      ]
    },
    {
      "cell_type": "code",
      "execution_count": 25,
      "id": "301223d5",
      "metadata": {
        "id": "301223d5"
      },
      "outputs": [],
      "source": [
        "U, s, Vt = np.linalg.svd(A)"
      ]
    },
    {
      "cell_type": "code",
      "execution_count": 26,
      "id": "a767b7b5",
      "metadata": {
        "id": "a767b7b5",
        "outputId": "561d899a-5ce9-4216-84f8-41ead6cec625",
        "colab": {
          "base_uri": "https://localhost:8080/"
        }
      },
      "outputs": [
        {
          "output_type": "execute_result",
          "data": {
            "text/plain": [
              "array([[-0.3310348 ,  0.39401565, -0.26040795, -0.50084899,  0.64537246],\n",
              "       [-0.65216453, -0.20790351,  0.50200958,  0.4200413 ,  0.32095053],\n",
              "       [-0.32695334, -0.08687787, -0.80980076,  0.47362608, -0.07385674],\n",
              "       [-0.53129003,  0.45921332,  0.10456048, -0.20863417, -0.67260161],\n",
              "       [-0.27555364, -0.76361192, -0.11603412, -0.55214646, -0.15045731]])"
            ]
          },
          "metadata": {},
          "execution_count": 26
        }
      ],
      "source": [
        "U"
      ]
    },
    {
      "cell_type": "code",
      "execution_count": 27,
      "id": "b5396ab8",
      "metadata": {
        "id": "b5396ab8",
        "outputId": "8aadfdb1-cb7f-46c1-d725-394fac002fd9",
        "colab": {
          "base_uri": "https://localhost:8080/"
        }
      },
      "outputs": [
        {
          "output_type": "execute_result",
          "data": {
            "text/plain": [
              "array([[15.64996758,  0.        ,  0.        ,  0.        ,  0.        ],\n",
              "       [ 0.        ,  4.73631918,  0.        ,  0.        ,  0.        ],\n",
              "       [ 0.        ,  0.        ,  2.61372433,  0.        ,  0.        ],\n",
              "       [ 0.        ,  0.        ,  0.        ,  0.86701861,  0.        ],\n",
              "       [ 0.        ,  0.        ,  0.        ,  0.        ,  0.25003839]])"
            ]
          },
          "metadata": {},
          "execution_count": 27
        }
      ],
      "source": [
        "np.diag(s)"
      ]
    },
    {
      "cell_type": "code",
      "execution_count": 28,
      "id": "86b3ab74",
      "metadata": {
        "id": "86b3ab74",
        "outputId": "d7e3240d-2e47-4b6b-9bcd-86af65643d97",
        "colab": {
          "base_uri": "https://localhost:8080/"
        }
      },
      "outputs": [
        {
          "output_type": "execute_result",
          "data": {
            "text/plain": [
              "array([[-0.44812014, -0.48005749, -0.52221287, -0.44584838, -0.31184305],\n",
              "       [-0.80352871,  0.33530388,  0.40736101,  0.13681497, -0.23927303],\n",
              "       [-0.21073835,  0.50724231, -0.7139346 ,  0.25704252,  0.35003016],\n",
              "       [-0.18196251, -0.60440652, -0.02773152,  0.7601654 ,  0.15153197],\n",
              "       [-0.27569718, -0.18577973,  0.22556391, -0.37226146,  0.83667155]])"
            ]
          },
          "metadata": {},
          "execution_count": 28
        }
      ],
      "source": [
        "Vt"
      ]
    },
    {
      "cell_type": "code",
      "execution_count": 29,
      "id": "0ebbdbfe",
      "metadata": {
        "id": "0ebbdbfe"
      },
      "outputs": [],
      "source": [
        "k=2"
      ]
    },
    {
      "cell_type": "code",
      "execution_count": 30,
      "id": "af326c84",
      "metadata": {
        "id": "af326c84"
      },
      "outputs": [],
      "source": [
        "Uk=U[:,:k]\n",
        "Vtk=Vt[:k,:]\n",
        "sk=np.diag(s)[:k,:k]\n",
        "rpred=np.matmul(np.matmul(Uk,sk),Vtk)"
      ]
    },
    {
      "cell_type": "code",
      "execution_count": 31,
      "id": "2d371f3a",
      "metadata": {
        "id": "2d371f3a",
        "outputId": "21611815-0ee5-47cd-cfe7-ad6ef7f64cc1",
        "colab": {
          "base_uri": "https://localhost:8080/"
        }
      },
      "outputs": [
        {
          "output_type": "execute_result",
          "data": {
            "text/plain": [
              "array([[0.82203648, 3.11276481, 3.46563035, 2.56512141, 1.16903278],\n",
              "       [5.36490533, 4.5694637 , 4.92876193, 4.41576492, 3.41839199],\n",
              "       [2.62358232, 2.3183913 , 2.50444217, 2.22502428, 1.69409776],\n",
              "       [1.97831231, 4.72079994, 5.22803095, 4.00465283, 2.07245829],\n",
              "       [4.83860594, 0.85750576, 0.77868712, 1.42785898, 2.21017481]])"
            ]
          },
          "metadata": {},
          "execution_count": 31
        }
      ],
      "source": [
        "rpred"
      ]
    },
    {
      "cell_type": "code",
      "execution_count": 32,
      "id": "ffc63651",
      "metadata": {
        "id": "ffc63651"
      },
      "outputs": [],
      "source": [
        "k=3"
      ]
    },
    {
      "cell_type": "code",
      "execution_count": 33,
      "id": "31d50aad",
      "metadata": {
        "id": "31d50aad"
      },
      "outputs": [],
      "source": [
        "Uk1=U[:,:k]\n",
        "Vtk1=Vt[:k,:]\n",
        "sk1=np.diag(s)[:k,:k]\n",
        "rpred1=np.matmul(np.matmul(Uk1,sk1),Vtk1)"
      ]
    },
    {
      "cell_type": "code",
      "execution_count": 34,
      "id": "bb4fc07f",
      "metadata": {
        "id": "bb4fc07f",
        "outputId": "546953de-c381-42f2-f8c6-810c756da7fc",
        "colab": {
          "base_uri": "https://localhost:8080/"
        }
      },
      "outputs": [
        {
          "output_type": "execute_result",
          "data": {
            "text/plain": [
              "array([[0.96547229, 2.76751813, 3.95155894, 2.39016937, 0.93079014],\n",
              "       [5.08839245, 5.23502377, 3.99199787, 4.75303418, 3.87767169],\n",
              "       [3.06963026, 1.24476428, 4.01555324, 1.68096913, 0.95322535],\n",
              "       [1.92071915, 4.85942535, 5.03291814, 4.07490057, 2.16811883],\n",
              "       [4.90251892, 0.7036687 , 0.99521007, 1.34990282, 2.10401724]])"
            ]
          },
          "metadata": {},
          "execution_count": 34
        }
      ],
      "source": [
        "rpred1"
      ]
    },
    {
      "cell_type": "code",
      "execution_count": 35,
      "id": "4bab4725",
      "metadata": {
        "id": "4bab4725"
      },
      "outputs": [],
      "source": [
        "def error(R,Rpred):\n",
        "  rsme=np.sum(np.sqrt(np.square((R-Rpred))/len(R)))\n",
        "  return rsme"
      ]
    },
    {
      "cell_type": "code",
      "execution_count": 36,
      "id": "30692fd3",
      "metadata": {
        "id": "30692fd3",
        "outputId": "558987b6-5831-40e0-9bd5-9a7de0aed21d",
        "colab": {
          "base_uri": "https://localhost:8080/"
        }
      },
      "outputs": [
        {
          "output_type": "stream",
          "name": "stdout",
          "text": [
            "4.618845479488703\n"
          ]
        }
      ],
      "source": [
        "#RMSE for k=2\n",
        "print(error(A,rpred))"
      ]
    },
    {
      "cell_type": "code",
      "execution_count": 37,
      "id": "a483e6d3",
      "metadata": {
        "id": "a483e6d3",
        "outputId": "f2327513-19e9-4feb-eac7-7e7c0288e4c5",
        "colab": {
          "base_uri": "https://localhost:8080/"
        }
      },
      "outputs": [
        {
          "output_type": "stream",
          "name": "stdout",
          "text": [
            "1.574017919781862\n"
          ]
        }
      ],
      "source": [
        "#RMSE for k=3\n",
        "print(error(A,rpred1))"
      ]
    },
    {
      "cell_type": "markdown",
      "id": "47e6ffa2",
      "metadata": {
        "id": "47e6ffa2"
      },
      "source": [
        "Increasing the latent factors decreases the RMSE"
      ]
    },
    {
      "cell_type": "code",
      "execution_count": 38,
      "id": "1989a23a",
      "metadata": {
        "id": "1989a23a"
      },
      "outputs": [],
      "source": [
        "testu=np.array([0,0,2,0,4])"
      ]
    },
    {
      "cell_type": "code",
      "execution_count": 39,
      "id": "40e852f6",
      "metadata": {
        "id": "40e852f6",
        "outputId": "a55e363c-6d64-4a01-c531-363c7bb0f76c",
        "colab": {
          "base_uri": "https://localhost:8080/"
        }
      },
      "outputs": [
        {
          "output_type": "execute_result",
          "data": {
            "text/plain": [
              "array([-1.10162391,  2.65158315, -3.73205646,  1.34367659,  1.82976468])"
            ]
          },
          "metadata": {},
          "execution_count": 39
        }
      ],
      "source": [
        "k=3\n",
        "Uktest=testu[:k]\n",
        "Vtktest=Vt[:k,:]\n",
        "sktest=np.diag(s)[:k,:k]\n",
        "rtest=np.matmul(np.matmul(Uktest,sktest),Vtktest)\n",
        "rtest"
      ]
    },
    {
      "cell_type": "code",
      "execution_count": 40,
      "id": "5bc7b9d8",
      "metadata": {
        "id": "5bc7b9d8",
        "outputId": "51da9d82-a072-4dd9-adcf-806819ebe112",
        "colab": {
          "base_uri": "https://localhost:8080/"
        }
      },
      "outputs": [
        {
          "output_type": "execute_result",
          "data": {
            "text/plain": [
              "5.8134079832464565"
            ]
          },
          "metadata": {},
          "execution_count": 40
        }
      ],
      "source": [
        "error(testu,rtest)"
      ]
    },
    {
      "cell_type": "code",
      "execution_count": 41,
      "id": "64326807",
      "metadata": {
        "id": "64326807",
        "outputId": "f9062698-3fa0-4bbd-af2b-443e3b054756",
        "colab": {
          "base_uri": "https://localhost:8080/",
          "height": 206
        }
      },
      "outputs": [
        {
          "output_type": "execute_result",
          "data": {
            "text/plain": [
              "   userId  movieId  rating  timestamp\n",
              "0       1        1     4.0  964982703\n",
              "1       1        3     4.0  964981247\n",
              "2       1        6     4.0  964982224\n",
              "3       1       47     5.0  964983815\n",
              "4       1       50     5.0  964982931"
            ],
            "text/html": [
              "\n",
              "  <div id=\"df-48fa6523-f7b3-44b1-b595-18627f2203c0\" class=\"colab-df-container\">\n",
              "    <div>\n",
              "<style scoped>\n",
              "    .dataframe tbody tr th:only-of-type {\n",
              "        vertical-align: middle;\n",
              "    }\n",
              "\n",
              "    .dataframe tbody tr th {\n",
              "        vertical-align: top;\n",
              "    }\n",
              "\n",
              "    .dataframe thead th {\n",
              "        text-align: right;\n",
              "    }\n",
              "</style>\n",
              "<table border=\"1\" class=\"dataframe\">\n",
              "  <thead>\n",
              "    <tr style=\"text-align: right;\">\n",
              "      <th></th>\n",
              "      <th>userId</th>\n",
              "      <th>movieId</th>\n",
              "      <th>rating</th>\n",
              "      <th>timestamp</th>\n",
              "    </tr>\n",
              "  </thead>\n",
              "  <tbody>\n",
              "    <tr>\n",
              "      <th>0</th>\n",
              "      <td>1</td>\n",
              "      <td>1</td>\n",
              "      <td>4.0</td>\n",
              "      <td>964982703</td>\n",
              "    </tr>\n",
              "    <tr>\n",
              "      <th>1</th>\n",
              "      <td>1</td>\n",
              "      <td>3</td>\n",
              "      <td>4.0</td>\n",
              "      <td>964981247</td>\n",
              "    </tr>\n",
              "    <tr>\n",
              "      <th>2</th>\n",
              "      <td>1</td>\n",
              "      <td>6</td>\n",
              "      <td>4.0</td>\n",
              "      <td>964982224</td>\n",
              "    </tr>\n",
              "    <tr>\n",
              "      <th>3</th>\n",
              "      <td>1</td>\n",
              "      <td>47</td>\n",
              "      <td>5.0</td>\n",
              "      <td>964983815</td>\n",
              "    </tr>\n",
              "    <tr>\n",
              "      <th>4</th>\n",
              "      <td>1</td>\n",
              "      <td>50</td>\n",
              "      <td>5.0</td>\n",
              "      <td>964982931</td>\n",
              "    </tr>\n",
              "  </tbody>\n",
              "</table>\n",
              "</div>\n",
              "    <div class=\"colab-df-buttons\">\n",
              "\n",
              "  <div class=\"colab-df-container\">\n",
              "    <button class=\"colab-df-convert\" onclick=\"convertToInteractive('df-48fa6523-f7b3-44b1-b595-18627f2203c0')\"\n",
              "            title=\"Convert this dataframe to an interactive table.\"\n",
              "            style=\"display:none;\">\n",
              "\n",
              "  <svg xmlns=\"http://www.w3.org/2000/svg\" height=\"24px\" viewBox=\"0 -960 960 960\">\n",
              "    <path d=\"M120-120v-720h720v720H120Zm60-500h600v-160H180v160Zm220 220h160v-160H400v160Zm0 220h160v-160H400v160ZM180-400h160v-160H180v160Zm440 0h160v-160H620v160ZM180-180h160v-160H180v160Zm440 0h160v-160H620v160Z\"/>\n",
              "  </svg>\n",
              "    </button>\n",
              "\n",
              "  <style>\n",
              "    .colab-df-container {\n",
              "      display:flex;\n",
              "      gap: 12px;\n",
              "    }\n",
              "\n",
              "    .colab-df-convert {\n",
              "      background-color: #E8F0FE;\n",
              "      border: none;\n",
              "      border-radius: 50%;\n",
              "      cursor: pointer;\n",
              "      display: none;\n",
              "      fill: #1967D2;\n",
              "      height: 32px;\n",
              "      padding: 0 0 0 0;\n",
              "      width: 32px;\n",
              "    }\n",
              "\n",
              "    .colab-df-convert:hover {\n",
              "      background-color: #E2EBFA;\n",
              "      box-shadow: 0px 1px 2px rgba(60, 64, 67, 0.3), 0px 1px 3px 1px rgba(60, 64, 67, 0.15);\n",
              "      fill: #174EA6;\n",
              "    }\n",
              "\n",
              "    .colab-df-buttons div {\n",
              "      margin-bottom: 4px;\n",
              "    }\n",
              "\n",
              "    [theme=dark] .colab-df-convert {\n",
              "      background-color: #3B4455;\n",
              "      fill: #D2E3FC;\n",
              "    }\n",
              "\n",
              "    [theme=dark] .colab-df-convert:hover {\n",
              "      background-color: #434B5C;\n",
              "      box-shadow: 0px 1px 3px 1px rgba(0, 0, 0, 0.15);\n",
              "      filter: drop-shadow(0px 1px 2px rgba(0, 0, 0, 0.3));\n",
              "      fill: #FFFFFF;\n",
              "    }\n",
              "  </style>\n",
              "\n",
              "    <script>\n",
              "      const buttonEl =\n",
              "        document.querySelector('#df-48fa6523-f7b3-44b1-b595-18627f2203c0 button.colab-df-convert');\n",
              "      buttonEl.style.display =\n",
              "        google.colab.kernel.accessAllowed ? 'block' : 'none';\n",
              "\n",
              "      async function convertToInteractive(key) {\n",
              "        const element = document.querySelector('#df-48fa6523-f7b3-44b1-b595-18627f2203c0');\n",
              "        const dataTable =\n",
              "          await google.colab.kernel.invokeFunction('convertToInteractive',\n",
              "                                                    [key], {});\n",
              "        if (!dataTable) return;\n",
              "\n",
              "        const docLinkHtml = 'Like what you see? Visit the ' +\n",
              "          '<a target=\"_blank\" href=https://colab.research.google.com/notebooks/data_table.ipynb>data table notebook</a>'\n",
              "          + ' to learn more about interactive tables.';\n",
              "        element.innerHTML = '';\n",
              "        dataTable['output_type'] = 'display_data';\n",
              "        await google.colab.output.renderOutput(dataTable, element);\n",
              "        const docLink = document.createElement('div');\n",
              "        docLink.innerHTML = docLinkHtml;\n",
              "        element.appendChild(docLink);\n",
              "      }\n",
              "    </script>\n",
              "  </div>\n",
              "\n",
              "\n",
              "<div id=\"df-8cc7ddc9-0342-416f-b229-f29812c0721e\">\n",
              "  <button class=\"colab-df-quickchart\" onclick=\"quickchart('df-8cc7ddc9-0342-416f-b229-f29812c0721e')\"\n",
              "            title=\"Suggest charts\"\n",
              "            style=\"display:none;\">\n",
              "\n",
              "<svg xmlns=\"http://www.w3.org/2000/svg\" height=\"24px\"viewBox=\"0 0 24 24\"\n",
              "     width=\"24px\">\n",
              "    <g>\n",
              "        <path d=\"M19 3H5c-1.1 0-2 .9-2 2v14c0 1.1.9 2 2 2h14c1.1 0 2-.9 2-2V5c0-1.1-.9-2-2-2zM9 17H7v-7h2v7zm4 0h-2V7h2v10zm4 0h-2v-4h2v4z\"/>\n",
              "    </g>\n",
              "</svg>\n",
              "  </button>\n",
              "\n",
              "<style>\n",
              "  .colab-df-quickchart {\n",
              "      --bg-color: #E8F0FE;\n",
              "      --fill-color: #1967D2;\n",
              "      --hover-bg-color: #E2EBFA;\n",
              "      --hover-fill-color: #174EA6;\n",
              "      --disabled-fill-color: #AAA;\n",
              "      --disabled-bg-color: #DDD;\n",
              "  }\n",
              "\n",
              "  [theme=dark] .colab-df-quickchart {\n",
              "      --bg-color: #3B4455;\n",
              "      --fill-color: #D2E3FC;\n",
              "      --hover-bg-color: #434B5C;\n",
              "      --hover-fill-color: #FFFFFF;\n",
              "      --disabled-bg-color: #3B4455;\n",
              "      --disabled-fill-color: #666;\n",
              "  }\n",
              "\n",
              "  .colab-df-quickchart {\n",
              "    background-color: var(--bg-color);\n",
              "    border: none;\n",
              "    border-radius: 50%;\n",
              "    cursor: pointer;\n",
              "    display: none;\n",
              "    fill: var(--fill-color);\n",
              "    height: 32px;\n",
              "    padding: 0;\n",
              "    width: 32px;\n",
              "  }\n",
              "\n",
              "  .colab-df-quickchart:hover {\n",
              "    background-color: var(--hover-bg-color);\n",
              "    box-shadow: 0 1px 2px rgba(60, 64, 67, 0.3), 0 1px 3px 1px rgba(60, 64, 67, 0.15);\n",
              "    fill: var(--button-hover-fill-color);\n",
              "  }\n",
              "\n",
              "  .colab-df-quickchart-complete:disabled,\n",
              "  .colab-df-quickchart-complete:disabled:hover {\n",
              "    background-color: var(--disabled-bg-color);\n",
              "    fill: var(--disabled-fill-color);\n",
              "    box-shadow: none;\n",
              "  }\n",
              "\n",
              "  .colab-df-spinner {\n",
              "    border: 2px solid var(--fill-color);\n",
              "    border-color: transparent;\n",
              "    border-bottom-color: var(--fill-color);\n",
              "    animation:\n",
              "      spin 1s steps(1) infinite;\n",
              "  }\n",
              "\n",
              "  @keyframes spin {\n",
              "    0% {\n",
              "      border-color: transparent;\n",
              "      border-bottom-color: var(--fill-color);\n",
              "      border-left-color: var(--fill-color);\n",
              "    }\n",
              "    20% {\n",
              "      border-color: transparent;\n",
              "      border-left-color: var(--fill-color);\n",
              "      border-top-color: var(--fill-color);\n",
              "    }\n",
              "    30% {\n",
              "      border-color: transparent;\n",
              "      border-left-color: var(--fill-color);\n",
              "      border-top-color: var(--fill-color);\n",
              "      border-right-color: var(--fill-color);\n",
              "    }\n",
              "    40% {\n",
              "      border-color: transparent;\n",
              "      border-right-color: var(--fill-color);\n",
              "      border-top-color: var(--fill-color);\n",
              "    }\n",
              "    60% {\n",
              "      border-color: transparent;\n",
              "      border-right-color: var(--fill-color);\n",
              "    }\n",
              "    80% {\n",
              "      border-color: transparent;\n",
              "      border-right-color: var(--fill-color);\n",
              "      border-bottom-color: var(--fill-color);\n",
              "    }\n",
              "    90% {\n",
              "      border-color: transparent;\n",
              "      border-bottom-color: var(--fill-color);\n",
              "    }\n",
              "  }\n",
              "</style>\n",
              "\n",
              "  <script>\n",
              "    async function quickchart(key) {\n",
              "      const quickchartButtonEl =\n",
              "        document.querySelector('#' + key + ' button');\n",
              "      quickchartButtonEl.disabled = true;  // To prevent multiple clicks.\n",
              "      quickchartButtonEl.classList.add('colab-df-spinner');\n",
              "      try {\n",
              "        const charts = await google.colab.kernel.invokeFunction(\n",
              "            'suggestCharts', [key], {});\n",
              "      } catch (error) {\n",
              "        console.error('Error during call to suggestCharts:', error);\n",
              "      }\n",
              "      quickchartButtonEl.classList.remove('colab-df-spinner');\n",
              "      quickchartButtonEl.classList.add('colab-df-quickchart-complete');\n",
              "    }\n",
              "    (() => {\n",
              "      let quickchartButtonEl =\n",
              "        document.querySelector('#df-8cc7ddc9-0342-416f-b229-f29812c0721e button');\n",
              "      quickchartButtonEl.style.display =\n",
              "        google.colab.kernel.accessAllowed ? 'block' : 'none';\n",
              "    })();\n",
              "  </script>\n",
              "</div>\n",
              "\n",
              "    </div>\n",
              "  </div>\n"
            ],
            "application/vnd.google.colaboratory.intrinsic+json": {
              "type": "dataframe",
              "variable_name": "df"
            }
          },
          "metadata": {},
          "execution_count": 41
        }
      ],
      "source": [
        "df=pd.read_csv('/content/ratings.csv')\n",
        "df.head()"
      ]
    },
    {
      "cell_type": "code",
      "execution_count": 42,
      "id": "c0284930",
      "metadata": {
        "id": "c0284930",
        "outputId": "b6d6ed8e-7590-4cd3-abea-b726ca316c41",
        "colab": {
          "base_uri": "https://localhost:8080/"
        }
      },
      "outputs": [
        {
          "output_type": "stream",
          "name": "stdout",
          "text": [
            "610\n",
            "9724\n",
            "10\n",
            "[4.0, 5.0, 3.0, 2.0, 1.0, 4.5, 3.5, 2.5, 0.5, 1.5]\n"
          ]
        }
      ],
      "source": [
        "# Print Number of users\n",
        "print(len(df['userId'].unique()))\n",
        "\n",
        "# Print Number of movies\n",
        "print(len(df['movieId'].unique()))\n",
        "\n",
        "# Print Number of ratings\n",
        "print(len(df['rating'].unique()))\n",
        "\n",
        "# Print List of unique ratings\n",
        "print(list(df['rating'].unique()))"
      ]
    },
    {
      "cell_type": "code",
      "execution_count": 43,
      "id": "3cedb06d",
      "metadata": {
        "id": "3cedb06d",
        "outputId": "a171cea2-51e9-45a4-8cab-14ae0c650d7e",
        "colab": {
          "base_uri": "https://localhost:8080/",
          "height": 300
        }
      },
      "outputs": [
        {
          "output_type": "execute_result",
          "data": {
            "text/plain": [
              "              userId        movieId         rating     timestamp\n",
              "count  100836.000000  100836.000000  100836.000000  1.008360e+05\n",
              "mean      326.127564   19435.295718       3.501557  1.205946e+09\n",
              "std       182.618491   35530.987199       1.042529  2.162610e+08\n",
              "min         1.000000       1.000000       0.500000  8.281246e+08\n",
              "25%       177.000000    1199.000000       3.000000  1.019124e+09\n",
              "50%       325.000000    2991.000000       3.500000  1.186087e+09\n",
              "75%       477.000000    8122.000000       4.000000  1.435994e+09\n",
              "max       610.000000  193609.000000       5.000000  1.537799e+09"
            ],
            "text/html": [
              "\n",
              "  <div id=\"df-67e8371d-ff16-43e4-8bcc-24a440ddfe28\" class=\"colab-df-container\">\n",
              "    <div>\n",
              "<style scoped>\n",
              "    .dataframe tbody tr th:only-of-type {\n",
              "        vertical-align: middle;\n",
              "    }\n",
              "\n",
              "    .dataframe tbody tr th {\n",
              "        vertical-align: top;\n",
              "    }\n",
              "\n",
              "    .dataframe thead th {\n",
              "        text-align: right;\n",
              "    }\n",
              "</style>\n",
              "<table border=\"1\" class=\"dataframe\">\n",
              "  <thead>\n",
              "    <tr style=\"text-align: right;\">\n",
              "      <th></th>\n",
              "      <th>userId</th>\n",
              "      <th>movieId</th>\n",
              "      <th>rating</th>\n",
              "      <th>timestamp</th>\n",
              "    </tr>\n",
              "  </thead>\n",
              "  <tbody>\n",
              "    <tr>\n",
              "      <th>count</th>\n",
              "      <td>100836.000000</td>\n",
              "      <td>100836.000000</td>\n",
              "      <td>100836.000000</td>\n",
              "      <td>1.008360e+05</td>\n",
              "    </tr>\n",
              "    <tr>\n",
              "      <th>mean</th>\n",
              "      <td>326.127564</td>\n",
              "      <td>19435.295718</td>\n",
              "      <td>3.501557</td>\n",
              "      <td>1.205946e+09</td>\n",
              "    </tr>\n",
              "    <tr>\n",
              "      <th>std</th>\n",
              "      <td>182.618491</td>\n",
              "      <td>35530.987199</td>\n",
              "      <td>1.042529</td>\n",
              "      <td>2.162610e+08</td>\n",
              "    </tr>\n",
              "    <tr>\n",
              "      <th>min</th>\n",
              "      <td>1.000000</td>\n",
              "      <td>1.000000</td>\n",
              "      <td>0.500000</td>\n",
              "      <td>8.281246e+08</td>\n",
              "    </tr>\n",
              "    <tr>\n",
              "      <th>25%</th>\n",
              "      <td>177.000000</td>\n",
              "      <td>1199.000000</td>\n",
              "      <td>3.000000</td>\n",
              "      <td>1.019124e+09</td>\n",
              "    </tr>\n",
              "    <tr>\n",
              "      <th>50%</th>\n",
              "      <td>325.000000</td>\n",
              "      <td>2991.000000</td>\n",
              "      <td>3.500000</td>\n",
              "      <td>1.186087e+09</td>\n",
              "    </tr>\n",
              "    <tr>\n",
              "      <th>75%</th>\n",
              "      <td>477.000000</td>\n",
              "      <td>8122.000000</td>\n",
              "      <td>4.000000</td>\n",
              "      <td>1.435994e+09</td>\n",
              "    </tr>\n",
              "    <tr>\n",
              "      <th>max</th>\n",
              "      <td>610.000000</td>\n",
              "      <td>193609.000000</td>\n",
              "      <td>5.000000</td>\n",
              "      <td>1.537799e+09</td>\n",
              "    </tr>\n",
              "  </tbody>\n",
              "</table>\n",
              "</div>\n",
              "    <div class=\"colab-df-buttons\">\n",
              "\n",
              "  <div class=\"colab-df-container\">\n",
              "    <button class=\"colab-df-convert\" onclick=\"convertToInteractive('df-67e8371d-ff16-43e4-8bcc-24a440ddfe28')\"\n",
              "            title=\"Convert this dataframe to an interactive table.\"\n",
              "            style=\"display:none;\">\n",
              "\n",
              "  <svg xmlns=\"http://www.w3.org/2000/svg\" height=\"24px\" viewBox=\"0 -960 960 960\">\n",
              "    <path d=\"M120-120v-720h720v720H120Zm60-500h600v-160H180v160Zm220 220h160v-160H400v160Zm0 220h160v-160H400v160ZM180-400h160v-160H180v160Zm440 0h160v-160H620v160ZM180-180h160v-160H180v160Zm440 0h160v-160H620v160Z\"/>\n",
              "  </svg>\n",
              "    </button>\n",
              "\n",
              "  <style>\n",
              "    .colab-df-container {\n",
              "      display:flex;\n",
              "      gap: 12px;\n",
              "    }\n",
              "\n",
              "    .colab-df-convert {\n",
              "      background-color: #E8F0FE;\n",
              "      border: none;\n",
              "      border-radius: 50%;\n",
              "      cursor: pointer;\n",
              "      display: none;\n",
              "      fill: #1967D2;\n",
              "      height: 32px;\n",
              "      padding: 0 0 0 0;\n",
              "      width: 32px;\n",
              "    }\n",
              "\n",
              "    .colab-df-convert:hover {\n",
              "      background-color: #E2EBFA;\n",
              "      box-shadow: 0px 1px 2px rgba(60, 64, 67, 0.3), 0px 1px 3px 1px rgba(60, 64, 67, 0.15);\n",
              "      fill: #174EA6;\n",
              "    }\n",
              "\n",
              "    .colab-df-buttons div {\n",
              "      margin-bottom: 4px;\n",
              "    }\n",
              "\n",
              "    [theme=dark] .colab-df-convert {\n",
              "      background-color: #3B4455;\n",
              "      fill: #D2E3FC;\n",
              "    }\n",
              "\n",
              "    [theme=dark] .colab-df-convert:hover {\n",
              "      background-color: #434B5C;\n",
              "      box-shadow: 0px 1px 3px 1px rgba(0, 0, 0, 0.15);\n",
              "      filter: drop-shadow(0px 1px 2px rgba(0, 0, 0, 0.3));\n",
              "      fill: #FFFFFF;\n",
              "    }\n",
              "  </style>\n",
              "\n",
              "    <script>\n",
              "      const buttonEl =\n",
              "        document.querySelector('#df-67e8371d-ff16-43e4-8bcc-24a440ddfe28 button.colab-df-convert');\n",
              "      buttonEl.style.display =\n",
              "        google.colab.kernel.accessAllowed ? 'block' : 'none';\n",
              "\n",
              "      async function convertToInteractive(key) {\n",
              "        const element = document.querySelector('#df-67e8371d-ff16-43e4-8bcc-24a440ddfe28');\n",
              "        const dataTable =\n",
              "          await google.colab.kernel.invokeFunction('convertToInteractive',\n",
              "                                                    [key], {});\n",
              "        if (!dataTable) return;\n",
              "\n",
              "        const docLinkHtml = 'Like what you see? Visit the ' +\n",
              "          '<a target=\"_blank\" href=https://colab.research.google.com/notebooks/data_table.ipynb>data table notebook</a>'\n",
              "          + ' to learn more about interactive tables.';\n",
              "        element.innerHTML = '';\n",
              "        dataTable['output_type'] = 'display_data';\n",
              "        await google.colab.output.renderOutput(dataTable, element);\n",
              "        const docLink = document.createElement('div');\n",
              "        docLink.innerHTML = docLinkHtml;\n",
              "        element.appendChild(docLink);\n",
              "      }\n",
              "    </script>\n",
              "  </div>\n",
              "\n",
              "\n",
              "<div id=\"df-dbc4dc71-f151-44d2-b874-944be2b98d9b\">\n",
              "  <button class=\"colab-df-quickchart\" onclick=\"quickchart('df-dbc4dc71-f151-44d2-b874-944be2b98d9b')\"\n",
              "            title=\"Suggest charts\"\n",
              "            style=\"display:none;\">\n",
              "\n",
              "<svg xmlns=\"http://www.w3.org/2000/svg\" height=\"24px\"viewBox=\"0 0 24 24\"\n",
              "     width=\"24px\">\n",
              "    <g>\n",
              "        <path d=\"M19 3H5c-1.1 0-2 .9-2 2v14c0 1.1.9 2 2 2h14c1.1 0 2-.9 2-2V5c0-1.1-.9-2-2-2zM9 17H7v-7h2v7zm4 0h-2V7h2v10zm4 0h-2v-4h2v4z\"/>\n",
              "    </g>\n",
              "</svg>\n",
              "  </button>\n",
              "\n",
              "<style>\n",
              "  .colab-df-quickchart {\n",
              "      --bg-color: #E8F0FE;\n",
              "      --fill-color: #1967D2;\n",
              "      --hover-bg-color: #E2EBFA;\n",
              "      --hover-fill-color: #174EA6;\n",
              "      --disabled-fill-color: #AAA;\n",
              "      --disabled-bg-color: #DDD;\n",
              "  }\n",
              "\n",
              "  [theme=dark] .colab-df-quickchart {\n",
              "      --bg-color: #3B4455;\n",
              "      --fill-color: #D2E3FC;\n",
              "      --hover-bg-color: #434B5C;\n",
              "      --hover-fill-color: #FFFFFF;\n",
              "      --disabled-bg-color: #3B4455;\n",
              "      --disabled-fill-color: #666;\n",
              "  }\n",
              "\n",
              "  .colab-df-quickchart {\n",
              "    background-color: var(--bg-color);\n",
              "    border: none;\n",
              "    border-radius: 50%;\n",
              "    cursor: pointer;\n",
              "    display: none;\n",
              "    fill: var(--fill-color);\n",
              "    height: 32px;\n",
              "    padding: 0;\n",
              "    width: 32px;\n",
              "  }\n",
              "\n",
              "  .colab-df-quickchart:hover {\n",
              "    background-color: var(--hover-bg-color);\n",
              "    box-shadow: 0 1px 2px rgba(60, 64, 67, 0.3), 0 1px 3px 1px rgba(60, 64, 67, 0.15);\n",
              "    fill: var(--button-hover-fill-color);\n",
              "  }\n",
              "\n",
              "  .colab-df-quickchart-complete:disabled,\n",
              "  .colab-df-quickchart-complete:disabled:hover {\n",
              "    background-color: var(--disabled-bg-color);\n",
              "    fill: var(--disabled-fill-color);\n",
              "    box-shadow: none;\n",
              "  }\n",
              "\n",
              "  .colab-df-spinner {\n",
              "    border: 2px solid var(--fill-color);\n",
              "    border-color: transparent;\n",
              "    border-bottom-color: var(--fill-color);\n",
              "    animation:\n",
              "      spin 1s steps(1) infinite;\n",
              "  }\n",
              "\n",
              "  @keyframes spin {\n",
              "    0% {\n",
              "      border-color: transparent;\n",
              "      border-bottom-color: var(--fill-color);\n",
              "      border-left-color: var(--fill-color);\n",
              "    }\n",
              "    20% {\n",
              "      border-color: transparent;\n",
              "      border-left-color: var(--fill-color);\n",
              "      border-top-color: var(--fill-color);\n",
              "    }\n",
              "    30% {\n",
              "      border-color: transparent;\n",
              "      border-left-color: var(--fill-color);\n",
              "      border-top-color: var(--fill-color);\n",
              "      border-right-color: var(--fill-color);\n",
              "    }\n",
              "    40% {\n",
              "      border-color: transparent;\n",
              "      border-right-color: var(--fill-color);\n",
              "      border-top-color: var(--fill-color);\n",
              "    }\n",
              "    60% {\n",
              "      border-color: transparent;\n",
              "      border-right-color: var(--fill-color);\n",
              "    }\n",
              "    80% {\n",
              "      border-color: transparent;\n",
              "      border-right-color: var(--fill-color);\n",
              "      border-bottom-color: var(--fill-color);\n",
              "    }\n",
              "    90% {\n",
              "      border-color: transparent;\n",
              "      border-bottom-color: var(--fill-color);\n",
              "    }\n",
              "  }\n",
              "</style>\n",
              "\n",
              "  <script>\n",
              "    async function quickchart(key) {\n",
              "      const quickchartButtonEl =\n",
              "        document.querySelector('#' + key + ' button');\n",
              "      quickchartButtonEl.disabled = true;  // To prevent multiple clicks.\n",
              "      quickchartButtonEl.classList.add('colab-df-spinner');\n",
              "      try {\n",
              "        const charts = await google.colab.kernel.invokeFunction(\n",
              "            'suggestCharts', [key], {});\n",
              "      } catch (error) {\n",
              "        console.error('Error during call to suggestCharts:', error);\n",
              "      }\n",
              "      quickchartButtonEl.classList.remove('colab-df-spinner');\n",
              "      quickchartButtonEl.classList.add('colab-df-quickchart-complete');\n",
              "    }\n",
              "    (() => {\n",
              "      let quickchartButtonEl =\n",
              "        document.querySelector('#df-dbc4dc71-f151-44d2-b874-944be2b98d9b button');\n",
              "      quickchartButtonEl.style.display =\n",
              "        google.colab.kernel.accessAllowed ? 'block' : 'none';\n",
              "    })();\n",
              "  </script>\n",
              "</div>\n",
              "\n",
              "    </div>\n",
              "  </div>\n"
            ],
            "application/vnd.google.colaboratory.intrinsic+json": {
              "type": "dataframe",
              "summary": "{\n  \"name\": \"df\",\n  \"rows\": 8,\n  \"fields\": [\n    {\n      \"column\": \"userId\",\n      \"properties\": {\n        \"dtype\": \"number\",\n        \"std\": 35545.40345112833,\n        \"min\": 1.0,\n        \"max\": 100836.0,\n        \"num_unique_values\": 8,\n        \"samples\": [\n          326.12756356856676,\n          325.0,\n          100836.0\n        ],\n        \"semantic_type\": \"\",\n        \"description\": \"\"\n      }\n    },\n    {\n      \"column\": \"movieId\",\n      \"properties\": {\n        \"dtype\": \"number\",\n        \"std\": 68674.51077210996,\n        \"min\": 1.0,\n        \"max\": 193609.0,\n        \"num_unique_values\": 8,\n        \"samples\": [\n          19435.2957177992,\n          2991.0,\n          100836.0\n        ],\n        \"semantic_type\": \"\",\n        \"description\": \"\"\n      }\n    },\n    {\n      \"column\": \"rating\",\n      \"properties\": {\n        \"dtype\": \"number\",\n        \"std\": 35649.87209197801,\n        \"min\": 0.5,\n        \"max\": 100836.0,\n        \"num_unique_values\": 8,\n        \"samples\": [\n          3.501556983616962,\n          3.5,\n          100836.0\n        ],\n        \"semantic_type\": \"\",\n        \"description\": \"\"\n      }\n    },\n    {\n      \"column\": \"timestamp\",\n      \"properties\": {\n        \"dtype\": \"number\",\n        \"std\": 555443207.4882221,\n        \"min\": 100836.0,\n        \"max\": 1537799250.0,\n        \"num_unique_values\": 8,\n        \"samples\": [\n          1205946087.3684695,\n          1186086662.0,\n          100836.0\n        ],\n        \"semantic_type\": \"\",\n        \"description\": \"\"\n      }\n    }\n  ]\n}"
            }
          },
          "metadata": {},
          "execution_count": 43
        }
      ],
      "source": [
        "# Get the dataset information\n",
        "df.describe()"
      ]
    },
    {
      "cell_type": "code",
      "execution_count": 44,
      "id": "e26ee14b",
      "metadata": {
        "id": "e26ee14b"
      },
      "outputs": [],
      "source": [
        "# Split the data into training and testing sets\n",
        "train_data, test_data = train_test_split(df, test_size=0.2, random_state=42)"
      ]
    },
    {
      "cell_type": "code",
      "execution_count": 45,
      "id": "08caf299",
      "metadata": {
        "id": "08caf299"
      },
      "outputs": [],
      "source": [
        "# Create a user-movie matrix\n",
        "user_movie_matrix = train_data.pivot(index='userId', columns='movieId', values='rating').fillna(0)"
      ]
    },
    {
      "cell_type": "code",
      "execution_count": 46,
      "id": "6494b579",
      "metadata": {
        "id": "6494b579"
      },
      "outputs": [],
      "source": [
        "from scipy.sparse import coo_matrix\n",
        "R = coo_matrix(user_movie_matrix.values)"
      ]
    },
    {
      "cell_type": "code",
      "execution_count": 47,
      "id": "ea6aa76a",
      "metadata": {
        "id": "ea6aa76a"
      },
      "outputs": [],
      "source": [
        "#  Factor matrix shape\n",
        "M,N=R.shape\n",
        "\n",
        "# No of Factors - 3\n",
        "K=3\n",
        "\n",
        "# using random values of P and Q\n",
        "P=np.random.rand(M,K)\n",
        "Q=np.random.rand(K,N)"
      ]
    },
    {
      "cell_type": "code",
      "execution_count": 48,
      "id": "a6cb0c51",
      "metadata": {
        "id": "a6cb0c51",
        "outputId": "6cf5548e-d849-48a3-9edb-ad698bbb844b",
        "colab": {
          "base_uri": "https://localhost:8080/"
        }
      },
      "outputs": [
        {
          "output_type": "execute_result",
          "data": {
            "text/plain": [
              "array([[0.3115487 , 0.25052356, 0.73437827],\n",
              "       [0.50765482, 0.56153404, 0.93521846],\n",
              "       [0.96993072, 0.53781366, 0.0878795 ],\n",
              "       ...,\n",
              "       [0.79747367, 0.15781084, 0.73249109],\n",
              "       [0.28109814, 0.04413751, 0.56715886],\n",
              "       [0.7152257 , 0.07358754, 0.74349049]])"
            ]
          },
          "metadata": {},
          "execution_count": 48
        }
      ],
      "source": [
        "P"
      ]
    },
    {
      "cell_type": "code",
      "execution_count": 49,
      "id": "efda123e",
      "metadata": {
        "id": "efda123e",
        "outputId": "762a0d2e-d3d4-461b-be45-980964de588c",
        "colab": {
          "base_uri": "https://localhost:8080/"
        }
      },
      "outputs": [
        {
          "output_type": "execute_result",
          "data": {
            "text/plain": [
              "array([[0.71257321, 0.5488183 , 0.78491165, ..., 0.59050346, 0.51546688,\n",
              "        0.45025411],\n",
              "       [0.89024949, 0.01392073, 0.34684931, ..., 0.69971651, 0.56479111,\n",
              "        0.01014833],\n",
              "       [0.33061434, 0.56062289, 0.38481281, ..., 0.88777289, 0.16858568,\n",
              "        0.04425136]])"
            ]
          },
          "metadata": {},
          "execution_count": 49
        }
      ],
      "source": [
        "Q"
      ]
    },
    {
      "cell_type": "code",
      "execution_count": 50,
      "id": "2bead23d",
      "metadata": {
        "id": "2bead23d"
      },
      "outputs": [],
      "source": [
        "from numpy.linalg import norm\n",
        "\n",
        "def error(R,P,Q,lamda=0.02):\n",
        "    ratings = R.data\n",
        "    rows = R.row\n",
        "    cols = R.col\n",
        "    e = 0\n",
        "    for ui in range(len(ratings)):\n",
        "        rui=ratings[ui]\n",
        "        u = rows[ui]\n",
        "        i = cols[ui]\n",
        "        if rui>0:\n",
        "            e= e + pow(rui-np.dot(P[u,:],Q[:,i]),2)+\\\n",
        "                lamda*(pow(norm(P[u,:]),2)+pow(norm(Q[:,i]),2))\n",
        "    return e"
      ]
    },
    {
      "cell_type": "code",
      "execution_count": 51,
      "id": "965ecd9c",
      "metadata": {
        "id": "965ecd9c",
        "outputId": "2b12e735-9234-4cd3-e93b-2e3607239647",
        "colab": {
          "base_uri": "https://localhost:8080/"
        }
      },
      "outputs": [
        {
          "output_type": "execute_result",
          "data": {
            "text/plain": [
              "2.97405284592602"
            ]
          },
          "metadata": {},
          "execution_count": 51
        }
      ],
      "source": [
        "rmse = np.sqrt(error(R,P,Q)/len(R.data))\n",
        "rmse"
      ]
    },
    {
      "cell_type": "code",
      "execution_count": 52,
      "id": "efcaab38",
      "metadata": {
        "id": "efcaab38",
        "outputId": "47d7cbc8-8643-40bd-fef5-14365d9a9252",
        "colab": {
          "base_uri": "https://localhost:8080/",
          "height": 475
        }
      },
      "outputs": [
        {
          "output_type": "execute_result",
          "data": {
            "text/plain": [
              "movieId    1         2         3         4         5         6         7       \\\n",
              "userId                                                                          \n",
              "1        3.906935 -0.093065  3.906935 -0.093065 -0.093065  3.906935 -0.093065   \n",
              "2       -0.010909 -0.010909 -0.010909 -0.010909 -0.010909 -0.010909 -0.010909   \n",
              "3       -0.008906 -0.008906 -0.008906 -0.008906 -0.008906 -0.008906 -0.008906   \n",
              "4       -0.065568 -0.065568 -0.065568 -0.065568 -0.065568 -0.065568 -0.065568   \n",
              "5       -0.015474 -0.015474 -0.015474 -0.015474 -0.015474 -0.015474 -0.015474   \n",
              "...           ...       ...       ...       ...       ...       ...       ...   \n",
              "606      2.127908 -0.372092 -0.372092 -0.372092 -0.372092 -0.372092  2.127908   \n",
              "607     -0.060448 -0.060448 -0.060448 -0.060448 -0.060448 -0.060448 -0.060448   \n",
              "608      2.264333  1.764333  1.764333 -0.235667 -0.235667 -0.235667 -0.235667   \n",
              "609      2.988645 -0.011355 -0.011355 -0.011355 -0.011355 -0.011355 -0.011355   \n",
              "610      4.571914 -0.428086 -0.428086 -0.428086 -0.428086 -0.428086 -0.428086   \n",
              "\n",
              "movieId    8         9         10      ...    191005    193565    193571  \\\n",
              "userId                                 ...                                 \n",
              "1       -0.093065 -0.093065 -0.093065  ... -0.093065 -0.093065 -0.093065   \n",
              "2       -0.010909 -0.010909 -0.010909  ... -0.010909 -0.010909 -0.010909   \n",
              "3       -0.008906 -0.008906 -0.008906  ... -0.008906 -0.008906 -0.008906   \n",
              "4       -0.065568 -0.065568 -0.065568  ... -0.065568 -0.065568 -0.065568   \n",
              "5       -0.015474 -0.015474 -0.015474  ... -0.015474 -0.015474 -0.015474   \n",
              "...           ...       ...       ...  ...       ...       ...       ...   \n",
              "606     -0.372092 -0.372092 -0.372092  ... -0.372092 -0.372092 -0.372092   \n",
              "607     -0.060448 -0.060448 -0.060448  ... -0.060448 -0.060448 -0.060448   \n",
              "608     -0.235667 -0.235667  3.764333  ... -0.235667 -0.235667 -0.235667   \n",
              "609     -0.011355 -0.011355  3.988645  ... -0.011355 -0.011355 -0.011355   \n",
              "610     -0.428086 -0.428086 -0.428086  ... -0.428086 -0.428086 -0.428086   \n",
              "\n",
              "movieId    193573    193579    193581    193583    193585    193587    193609  \n",
              "userId                                                                         \n",
              "1       -0.093065 -0.093065 -0.093065 -0.093065 -0.093065 -0.093065 -0.093065  \n",
              "2       -0.010909 -0.010909 -0.010909 -0.010909 -0.010909 -0.010909 -0.010909  \n",
              "3       -0.008906 -0.008906 -0.008906 -0.008906 -0.008906 -0.008906 -0.008906  \n",
              "4       -0.065568 -0.065568 -0.065568 -0.065568 -0.065568 -0.065568 -0.065568  \n",
              "5       -0.015474 -0.015474 -0.015474 -0.015474 -0.015474 -0.015474 -0.015474  \n",
              "...           ...       ...       ...       ...       ...       ...       ...  \n",
              "606     -0.372092 -0.372092 -0.372092 -0.372092 -0.372092 -0.372092 -0.372092  \n",
              "607     -0.060448 -0.060448 -0.060448 -0.060448 -0.060448 -0.060448 -0.060448  \n",
              "608     -0.235667 -0.235667 -0.235667 -0.235667 -0.235667 -0.235667 -0.235667  \n",
              "609     -0.011355 -0.011355 -0.011355 -0.011355 -0.011355 -0.011355 -0.011355  \n",
              "610     -0.428086 -0.428086 -0.428086 -0.428086 -0.428086 -0.428086 -0.428086  \n",
              "\n",
              "[610 rows x 8983 columns]"
            ],
            "text/html": [
              "\n",
              "  <div id=\"df-dcff68a3-8d24-4825-b2bd-7da90ea97b9b\" class=\"colab-df-container\">\n",
              "    <div>\n",
              "<style scoped>\n",
              "    .dataframe tbody tr th:only-of-type {\n",
              "        vertical-align: middle;\n",
              "    }\n",
              "\n",
              "    .dataframe tbody tr th {\n",
              "        vertical-align: top;\n",
              "    }\n",
              "\n",
              "    .dataframe thead th {\n",
              "        text-align: right;\n",
              "    }\n",
              "</style>\n",
              "<table border=\"1\" class=\"dataframe\">\n",
              "  <thead>\n",
              "    <tr style=\"text-align: right;\">\n",
              "      <th>movieId</th>\n",
              "      <th>1</th>\n",
              "      <th>2</th>\n",
              "      <th>3</th>\n",
              "      <th>4</th>\n",
              "      <th>5</th>\n",
              "      <th>6</th>\n",
              "      <th>7</th>\n",
              "      <th>8</th>\n",
              "      <th>9</th>\n",
              "      <th>10</th>\n",
              "      <th>...</th>\n",
              "      <th>191005</th>\n",
              "      <th>193565</th>\n",
              "      <th>193571</th>\n",
              "      <th>193573</th>\n",
              "      <th>193579</th>\n",
              "      <th>193581</th>\n",
              "      <th>193583</th>\n",
              "      <th>193585</th>\n",
              "      <th>193587</th>\n",
              "      <th>193609</th>\n",
              "    </tr>\n",
              "    <tr>\n",
              "      <th>userId</th>\n",
              "      <th></th>\n",
              "      <th></th>\n",
              "      <th></th>\n",
              "      <th></th>\n",
              "      <th></th>\n",
              "      <th></th>\n",
              "      <th></th>\n",
              "      <th></th>\n",
              "      <th></th>\n",
              "      <th></th>\n",
              "      <th></th>\n",
              "      <th></th>\n",
              "      <th></th>\n",
              "      <th></th>\n",
              "      <th></th>\n",
              "      <th></th>\n",
              "      <th></th>\n",
              "      <th></th>\n",
              "      <th></th>\n",
              "      <th></th>\n",
              "      <th></th>\n",
              "    </tr>\n",
              "  </thead>\n",
              "  <tbody>\n",
              "    <tr>\n",
              "      <th>1</th>\n",
              "      <td>3.906935</td>\n",
              "      <td>-0.093065</td>\n",
              "      <td>3.906935</td>\n",
              "      <td>-0.093065</td>\n",
              "      <td>-0.093065</td>\n",
              "      <td>3.906935</td>\n",
              "      <td>-0.093065</td>\n",
              "      <td>-0.093065</td>\n",
              "      <td>-0.093065</td>\n",
              "      <td>-0.093065</td>\n",
              "      <td>...</td>\n",
              "      <td>-0.093065</td>\n",
              "      <td>-0.093065</td>\n",
              "      <td>-0.093065</td>\n",
              "      <td>-0.093065</td>\n",
              "      <td>-0.093065</td>\n",
              "      <td>-0.093065</td>\n",
              "      <td>-0.093065</td>\n",
              "      <td>-0.093065</td>\n",
              "      <td>-0.093065</td>\n",
              "      <td>-0.093065</td>\n",
              "    </tr>\n",
              "    <tr>\n",
              "      <th>2</th>\n",
              "      <td>-0.010909</td>\n",
              "      <td>-0.010909</td>\n",
              "      <td>-0.010909</td>\n",
              "      <td>-0.010909</td>\n",
              "      <td>-0.010909</td>\n",
              "      <td>-0.010909</td>\n",
              "      <td>-0.010909</td>\n",
              "      <td>-0.010909</td>\n",
              "      <td>-0.010909</td>\n",
              "      <td>-0.010909</td>\n",
              "      <td>...</td>\n",
              "      <td>-0.010909</td>\n",
              "      <td>-0.010909</td>\n",
              "      <td>-0.010909</td>\n",
              "      <td>-0.010909</td>\n",
              "      <td>-0.010909</td>\n",
              "      <td>-0.010909</td>\n",
              "      <td>-0.010909</td>\n",
              "      <td>-0.010909</td>\n",
              "      <td>-0.010909</td>\n",
              "      <td>-0.010909</td>\n",
              "    </tr>\n",
              "    <tr>\n",
              "      <th>3</th>\n",
              "      <td>-0.008906</td>\n",
              "      <td>-0.008906</td>\n",
              "      <td>-0.008906</td>\n",
              "      <td>-0.008906</td>\n",
              "      <td>-0.008906</td>\n",
              "      <td>-0.008906</td>\n",
              "      <td>-0.008906</td>\n",
              "      <td>-0.008906</td>\n",
              "      <td>-0.008906</td>\n",
              "      <td>-0.008906</td>\n",
              "      <td>...</td>\n",
              "      <td>-0.008906</td>\n",
              "      <td>-0.008906</td>\n",
              "      <td>-0.008906</td>\n",
              "      <td>-0.008906</td>\n",
              "      <td>-0.008906</td>\n",
              "      <td>-0.008906</td>\n",
              "      <td>-0.008906</td>\n",
              "      <td>-0.008906</td>\n",
              "      <td>-0.008906</td>\n",
              "      <td>-0.008906</td>\n",
              "    </tr>\n",
              "    <tr>\n",
              "      <th>4</th>\n",
              "      <td>-0.065568</td>\n",
              "      <td>-0.065568</td>\n",
              "      <td>-0.065568</td>\n",
              "      <td>-0.065568</td>\n",
              "      <td>-0.065568</td>\n",
              "      <td>-0.065568</td>\n",
              "      <td>-0.065568</td>\n",
              "      <td>-0.065568</td>\n",
              "      <td>-0.065568</td>\n",
              "      <td>-0.065568</td>\n",
              "      <td>...</td>\n",
              "      <td>-0.065568</td>\n",
              "      <td>-0.065568</td>\n",
              "      <td>-0.065568</td>\n",
              "      <td>-0.065568</td>\n",
              "      <td>-0.065568</td>\n",
              "      <td>-0.065568</td>\n",
              "      <td>-0.065568</td>\n",
              "      <td>-0.065568</td>\n",
              "      <td>-0.065568</td>\n",
              "      <td>-0.065568</td>\n",
              "    </tr>\n",
              "    <tr>\n",
              "      <th>5</th>\n",
              "      <td>-0.015474</td>\n",
              "      <td>-0.015474</td>\n",
              "      <td>-0.015474</td>\n",
              "      <td>-0.015474</td>\n",
              "      <td>-0.015474</td>\n",
              "      <td>-0.015474</td>\n",
              "      <td>-0.015474</td>\n",
              "      <td>-0.015474</td>\n",
              "      <td>-0.015474</td>\n",
              "      <td>-0.015474</td>\n",
              "      <td>...</td>\n",
              "      <td>-0.015474</td>\n",
              "      <td>-0.015474</td>\n",
              "      <td>-0.015474</td>\n",
              "      <td>-0.015474</td>\n",
              "      <td>-0.015474</td>\n",
              "      <td>-0.015474</td>\n",
              "      <td>-0.015474</td>\n",
              "      <td>-0.015474</td>\n",
              "      <td>-0.015474</td>\n",
              "      <td>-0.015474</td>\n",
              "    </tr>\n",
              "    <tr>\n",
              "      <th>...</th>\n",
              "      <td>...</td>\n",
              "      <td>...</td>\n",
              "      <td>...</td>\n",
              "      <td>...</td>\n",
              "      <td>...</td>\n",
              "      <td>...</td>\n",
              "      <td>...</td>\n",
              "      <td>...</td>\n",
              "      <td>...</td>\n",
              "      <td>...</td>\n",
              "      <td>...</td>\n",
              "      <td>...</td>\n",
              "      <td>...</td>\n",
              "      <td>...</td>\n",
              "      <td>...</td>\n",
              "      <td>...</td>\n",
              "      <td>...</td>\n",
              "      <td>...</td>\n",
              "      <td>...</td>\n",
              "      <td>...</td>\n",
              "      <td>...</td>\n",
              "    </tr>\n",
              "    <tr>\n",
              "      <th>606</th>\n",
              "      <td>2.127908</td>\n",
              "      <td>-0.372092</td>\n",
              "      <td>-0.372092</td>\n",
              "      <td>-0.372092</td>\n",
              "      <td>-0.372092</td>\n",
              "      <td>-0.372092</td>\n",
              "      <td>2.127908</td>\n",
              "      <td>-0.372092</td>\n",
              "      <td>-0.372092</td>\n",
              "      <td>-0.372092</td>\n",
              "      <td>...</td>\n",
              "      <td>-0.372092</td>\n",
              "      <td>-0.372092</td>\n",
              "      <td>-0.372092</td>\n",
              "      <td>-0.372092</td>\n",
              "      <td>-0.372092</td>\n",
              "      <td>-0.372092</td>\n",
              "      <td>-0.372092</td>\n",
              "      <td>-0.372092</td>\n",
              "      <td>-0.372092</td>\n",
              "      <td>-0.372092</td>\n",
              "    </tr>\n",
              "    <tr>\n",
              "      <th>607</th>\n",
              "      <td>-0.060448</td>\n",
              "      <td>-0.060448</td>\n",
              "      <td>-0.060448</td>\n",
              "      <td>-0.060448</td>\n",
              "      <td>-0.060448</td>\n",
              "      <td>-0.060448</td>\n",
              "      <td>-0.060448</td>\n",
              "      <td>-0.060448</td>\n",
              "      <td>-0.060448</td>\n",
              "      <td>-0.060448</td>\n",
              "      <td>...</td>\n",
              "      <td>-0.060448</td>\n",
              "      <td>-0.060448</td>\n",
              "      <td>-0.060448</td>\n",
              "      <td>-0.060448</td>\n",
              "      <td>-0.060448</td>\n",
              "      <td>-0.060448</td>\n",
              "      <td>-0.060448</td>\n",
              "      <td>-0.060448</td>\n",
              "      <td>-0.060448</td>\n",
              "      <td>-0.060448</td>\n",
              "    </tr>\n",
              "    <tr>\n",
              "      <th>608</th>\n",
              "      <td>2.264333</td>\n",
              "      <td>1.764333</td>\n",
              "      <td>1.764333</td>\n",
              "      <td>-0.235667</td>\n",
              "      <td>-0.235667</td>\n",
              "      <td>-0.235667</td>\n",
              "      <td>-0.235667</td>\n",
              "      <td>-0.235667</td>\n",
              "      <td>-0.235667</td>\n",
              "      <td>3.764333</td>\n",
              "      <td>...</td>\n",
              "      <td>-0.235667</td>\n",
              "      <td>-0.235667</td>\n",
              "      <td>-0.235667</td>\n",
              "      <td>-0.235667</td>\n",
              "      <td>-0.235667</td>\n",
              "      <td>-0.235667</td>\n",
              "      <td>-0.235667</td>\n",
              "      <td>-0.235667</td>\n",
              "      <td>-0.235667</td>\n",
              "      <td>-0.235667</td>\n",
              "    </tr>\n",
              "    <tr>\n",
              "      <th>609</th>\n",
              "      <td>2.988645</td>\n",
              "      <td>-0.011355</td>\n",
              "      <td>-0.011355</td>\n",
              "      <td>-0.011355</td>\n",
              "      <td>-0.011355</td>\n",
              "      <td>-0.011355</td>\n",
              "      <td>-0.011355</td>\n",
              "      <td>-0.011355</td>\n",
              "      <td>-0.011355</td>\n",
              "      <td>3.988645</td>\n",
              "      <td>...</td>\n",
              "      <td>-0.011355</td>\n",
              "      <td>-0.011355</td>\n",
              "      <td>-0.011355</td>\n",
              "      <td>-0.011355</td>\n",
              "      <td>-0.011355</td>\n",
              "      <td>-0.011355</td>\n",
              "      <td>-0.011355</td>\n",
              "      <td>-0.011355</td>\n",
              "      <td>-0.011355</td>\n",
              "      <td>-0.011355</td>\n",
              "    </tr>\n",
              "    <tr>\n",
              "      <th>610</th>\n",
              "      <td>4.571914</td>\n",
              "      <td>-0.428086</td>\n",
              "      <td>-0.428086</td>\n",
              "      <td>-0.428086</td>\n",
              "      <td>-0.428086</td>\n",
              "      <td>-0.428086</td>\n",
              "      <td>-0.428086</td>\n",
              "      <td>-0.428086</td>\n",
              "      <td>-0.428086</td>\n",
              "      <td>-0.428086</td>\n",
              "      <td>...</td>\n",
              "      <td>-0.428086</td>\n",
              "      <td>-0.428086</td>\n",
              "      <td>-0.428086</td>\n",
              "      <td>-0.428086</td>\n",
              "      <td>-0.428086</td>\n",
              "      <td>-0.428086</td>\n",
              "      <td>-0.428086</td>\n",
              "      <td>-0.428086</td>\n",
              "      <td>-0.428086</td>\n",
              "      <td>-0.428086</td>\n",
              "    </tr>\n",
              "  </tbody>\n",
              "</table>\n",
              "<p>610 rows × 8983 columns</p>\n",
              "</div>\n",
              "    <div class=\"colab-df-buttons\">\n",
              "\n",
              "  <div class=\"colab-df-container\">\n",
              "    <button class=\"colab-df-convert\" onclick=\"convertToInteractive('df-dcff68a3-8d24-4825-b2bd-7da90ea97b9b')\"\n",
              "            title=\"Convert this dataframe to an interactive table.\"\n",
              "            style=\"display:none;\">\n",
              "\n",
              "  <svg xmlns=\"http://www.w3.org/2000/svg\" height=\"24px\" viewBox=\"0 -960 960 960\">\n",
              "    <path d=\"M120-120v-720h720v720H120Zm60-500h600v-160H180v160Zm220 220h160v-160H400v160Zm0 220h160v-160H400v160ZM180-400h160v-160H180v160Zm440 0h160v-160H620v160ZM180-180h160v-160H180v160Zm440 0h160v-160H620v160Z\"/>\n",
              "  </svg>\n",
              "    </button>\n",
              "\n",
              "  <style>\n",
              "    .colab-df-container {\n",
              "      display:flex;\n",
              "      gap: 12px;\n",
              "    }\n",
              "\n",
              "    .colab-df-convert {\n",
              "      background-color: #E8F0FE;\n",
              "      border: none;\n",
              "      border-radius: 50%;\n",
              "      cursor: pointer;\n",
              "      display: none;\n",
              "      fill: #1967D2;\n",
              "      height: 32px;\n",
              "      padding: 0 0 0 0;\n",
              "      width: 32px;\n",
              "    }\n",
              "\n",
              "    .colab-df-convert:hover {\n",
              "      background-color: #E2EBFA;\n",
              "      box-shadow: 0px 1px 2px rgba(60, 64, 67, 0.3), 0px 1px 3px 1px rgba(60, 64, 67, 0.15);\n",
              "      fill: #174EA6;\n",
              "    }\n",
              "\n",
              "    .colab-df-buttons div {\n",
              "      margin-bottom: 4px;\n",
              "    }\n",
              "\n",
              "    [theme=dark] .colab-df-convert {\n",
              "      background-color: #3B4455;\n",
              "      fill: #D2E3FC;\n",
              "    }\n",
              "\n",
              "    [theme=dark] .colab-df-convert:hover {\n",
              "      background-color: #434B5C;\n",
              "      box-shadow: 0px 1px 3px 1px rgba(0, 0, 0, 0.15);\n",
              "      filter: drop-shadow(0px 1px 2px rgba(0, 0, 0, 0.3));\n",
              "      fill: #FFFFFF;\n",
              "    }\n",
              "  </style>\n",
              "\n",
              "    <script>\n",
              "      const buttonEl =\n",
              "        document.querySelector('#df-dcff68a3-8d24-4825-b2bd-7da90ea97b9b button.colab-df-convert');\n",
              "      buttonEl.style.display =\n",
              "        google.colab.kernel.accessAllowed ? 'block' : 'none';\n",
              "\n",
              "      async function convertToInteractive(key) {\n",
              "        const element = document.querySelector('#df-dcff68a3-8d24-4825-b2bd-7da90ea97b9b');\n",
              "        const dataTable =\n",
              "          await google.colab.kernel.invokeFunction('convertToInteractive',\n",
              "                                                    [key], {});\n",
              "        if (!dataTable) return;\n",
              "\n",
              "        const docLinkHtml = 'Like what you see? Visit the ' +\n",
              "          '<a target=\"_blank\" href=https://colab.research.google.com/notebooks/data_table.ipynb>data table notebook</a>'\n",
              "          + ' to learn more about interactive tables.';\n",
              "        element.innerHTML = '';\n",
              "        dataTable['output_type'] = 'display_data';\n",
              "        await google.colab.output.renderOutput(dataTable, element);\n",
              "        const docLink = document.createElement('div');\n",
              "        docLink.innerHTML = docLinkHtml;\n",
              "        element.appendChild(docLink);\n",
              "      }\n",
              "    </script>\n",
              "  </div>\n",
              "\n",
              "\n",
              "<div id=\"df-06e8c146-2482-4078-b710-2de4680ff8d9\">\n",
              "  <button class=\"colab-df-quickchart\" onclick=\"quickchart('df-06e8c146-2482-4078-b710-2de4680ff8d9')\"\n",
              "            title=\"Suggest charts\"\n",
              "            style=\"display:none;\">\n",
              "\n",
              "<svg xmlns=\"http://www.w3.org/2000/svg\" height=\"24px\"viewBox=\"0 0 24 24\"\n",
              "     width=\"24px\">\n",
              "    <g>\n",
              "        <path d=\"M19 3H5c-1.1 0-2 .9-2 2v14c0 1.1.9 2 2 2h14c1.1 0 2-.9 2-2V5c0-1.1-.9-2-2-2zM9 17H7v-7h2v7zm4 0h-2V7h2v10zm4 0h-2v-4h2v4z\"/>\n",
              "    </g>\n",
              "</svg>\n",
              "  </button>\n",
              "\n",
              "<style>\n",
              "  .colab-df-quickchart {\n",
              "      --bg-color: #E8F0FE;\n",
              "      --fill-color: #1967D2;\n",
              "      --hover-bg-color: #E2EBFA;\n",
              "      --hover-fill-color: #174EA6;\n",
              "      --disabled-fill-color: #AAA;\n",
              "      --disabled-bg-color: #DDD;\n",
              "  }\n",
              "\n",
              "  [theme=dark] .colab-df-quickchart {\n",
              "      --bg-color: #3B4455;\n",
              "      --fill-color: #D2E3FC;\n",
              "      --hover-bg-color: #434B5C;\n",
              "      --hover-fill-color: #FFFFFF;\n",
              "      --disabled-bg-color: #3B4455;\n",
              "      --disabled-fill-color: #666;\n",
              "  }\n",
              "\n",
              "  .colab-df-quickchart {\n",
              "    background-color: var(--bg-color);\n",
              "    border: none;\n",
              "    border-radius: 50%;\n",
              "    cursor: pointer;\n",
              "    display: none;\n",
              "    fill: var(--fill-color);\n",
              "    height: 32px;\n",
              "    padding: 0;\n",
              "    width: 32px;\n",
              "  }\n",
              "\n",
              "  .colab-df-quickchart:hover {\n",
              "    background-color: var(--hover-bg-color);\n",
              "    box-shadow: 0 1px 2px rgba(60, 64, 67, 0.3), 0 1px 3px 1px rgba(60, 64, 67, 0.15);\n",
              "    fill: var(--button-hover-fill-color);\n",
              "  }\n",
              "\n",
              "  .colab-df-quickchart-complete:disabled,\n",
              "  .colab-df-quickchart-complete:disabled:hover {\n",
              "    background-color: var(--disabled-bg-color);\n",
              "    fill: var(--disabled-fill-color);\n",
              "    box-shadow: none;\n",
              "  }\n",
              "\n",
              "  .colab-df-spinner {\n",
              "    border: 2px solid var(--fill-color);\n",
              "    border-color: transparent;\n",
              "    border-bottom-color: var(--fill-color);\n",
              "    animation:\n",
              "      spin 1s steps(1) infinite;\n",
              "  }\n",
              "\n",
              "  @keyframes spin {\n",
              "    0% {\n",
              "      border-color: transparent;\n",
              "      border-bottom-color: var(--fill-color);\n",
              "      border-left-color: var(--fill-color);\n",
              "    }\n",
              "    20% {\n",
              "      border-color: transparent;\n",
              "      border-left-color: var(--fill-color);\n",
              "      border-top-color: var(--fill-color);\n",
              "    }\n",
              "    30% {\n",
              "      border-color: transparent;\n",
              "      border-left-color: var(--fill-color);\n",
              "      border-top-color: var(--fill-color);\n",
              "      border-right-color: var(--fill-color);\n",
              "    }\n",
              "    40% {\n",
              "      border-color: transparent;\n",
              "      border-right-color: var(--fill-color);\n",
              "      border-top-color: var(--fill-color);\n",
              "    }\n",
              "    60% {\n",
              "      border-color: transparent;\n",
              "      border-right-color: var(--fill-color);\n",
              "    }\n",
              "    80% {\n",
              "      border-color: transparent;\n",
              "      border-right-color: var(--fill-color);\n",
              "      border-bottom-color: var(--fill-color);\n",
              "    }\n",
              "    90% {\n",
              "      border-color: transparent;\n",
              "      border-bottom-color: var(--fill-color);\n",
              "    }\n",
              "  }\n",
              "</style>\n",
              "\n",
              "  <script>\n",
              "    async function quickchart(key) {\n",
              "      const quickchartButtonEl =\n",
              "        document.querySelector('#' + key + ' button');\n",
              "      quickchartButtonEl.disabled = true;  // To prevent multiple clicks.\n",
              "      quickchartButtonEl.classList.add('colab-df-spinner');\n",
              "      try {\n",
              "        const charts = await google.colab.kernel.invokeFunction(\n",
              "            'suggestCharts', [key], {});\n",
              "      } catch (error) {\n",
              "        console.error('Error during call to suggestCharts:', error);\n",
              "      }\n",
              "      quickchartButtonEl.classList.remove('colab-df-spinner');\n",
              "      quickchartButtonEl.classList.add('colab-df-quickchart-complete');\n",
              "    }\n",
              "    (() => {\n",
              "      let quickchartButtonEl =\n",
              "        document.querySelector('#df-06e8c146-2482-4078-b710-2de4680ff8d9 button');\n",
              "      quickchartButtonEl.style.display =\n",
              "        google.colab.kernel.accessAllowed ? 'block' : 'none';\n",
              "    })();\n",
              "  </script>\n",
              "</div>\n",
              "\n",
              "  <div id=\"id_f0bbcc77-c4a7-4a57-9882-5db87a42b49b\">\n",
              "    <style>\n",
              "      .colab-df-generate {\n",
              "        background-color: #E8F0FE;\n",
              "        border: none;\n",
              "        border-radius: 50%;\n",
              "        cursor: pointer;\n",
              "        display: none;\n",
              "        fill: #1967D2;\n",
              "        height: 32px;\n",
              "        padding: 0 0 0 0;\n",
              "        width: 32px;\n",
              "      }\n",
              "\n",
              "      .colab-df-generate:hover {\n",
              "        background-color: #E2EBFA;\n",
              "        box-shadow: 0px 1px 2px rgba(60, 64, 67, 0.3), 0px 1px 3px 1px rgba(60, 64, 67, 0.15);\n",
              "        fill: #174EA6;\n",
              "      }\n",
              "\n",
              "      [theme=dark] .colab-df-generate {\n",
              "        background-color: #3B4455;\n",
              "        fill: #D2E3FC;\n",
              "      }\n",
              "\n",
              "      [theme=dark] .colab-df-generate:hover {\n",
              "        background-color: #434B5C;\n",
              "        box-shadow: 0px 1px 3px 1px rgba(0, 0, 0, 0.15);\n",
              "        filter: drop-shadow(0px 1px 2px rgba(0, 0, 0, 0.3));\n",
              "        fill: #FFFFFF;\n",
              "      }\n",
              "    </style>\n",
              "    <button class=\"colab-df-generate\" onclick=\"generateWithVariable('normalized_user_movie_matrix')\"\n",
              "            title=\"Generate code using this dataframe.\"\n",
              "            style=\"display:none;\">\n",
              "\n",
              "  <svg xmlns=\"http://www.w3.org/2000/svg\" height=\"24px\"viewBox=\"0 0 24 24\"\n",
              "       width=\"24px\">\n",
              "    <path d=\"M7,19H8.4L18.45,9,17,7.55,7,17.6ZM5,21V16.75L18.45,3.32a2,2,0,0,1,2.83,0l1.4,1.43a1.91,1.91,0,0,1,.58,1.4,1.91,1.91,0,0,1-.58,1.4L9.25,21ZM18.45,9,17,7.55Zm-12,3A5.31,5.31,0,0,0,4.9,8.1,5.31,5.31,0,0,0,1,6.5,5.31,5.31,0,0,0,4.9,4.9,5.31,5.31,0,0,0,6.5,1,5.31,5.31,0,0,0,8.1,4.9,5.31,5.31,0,0,0,12,6.5,5.46,5.46,0,0,0,6.5,12Z\"/>\n",
              "  </svg>\n",
              "    </button>\n",
              "    <script>\n",
              "      (() => {\n",
              "      const buttonEl =\n",
              "        document.querySelector('#id_f0bbcc77-c4a7-4a57-9882-5db87a42b49b button.colab-df-generate');\n",
              "      buttonEl.style.display =\n",
              "        google.colab.kernel.accessAllowed ? 'block' : 'none';\n",
              "\n",
              "      buttonEl.onclick = () => {\n",
              "        google.colab.notebook.generateWithVariable('normalized_user_movie_matrix');\n",
              "      }\n",
              "      })();\n",
              "    </script>\n",
              "  </div>\n",
              "\n",
              "    </div>\n",
              "  </div>\n"
            ],
            "application/vnd.google.colaboratory.intrinsic+json": {
              "type": "dataframe",
              "variable_name": "normalized_user_movie_matrix"
            }
          },
          "metadata": {},
          "execution_count": 52
        }
      ],
      "source": [
        "user_means = user_movie_matrix.mean(axis=1)\n",
        "\n",
        "# Normalize the user-item matrix by subtracting the user's mean rating from their ratings\n",
        "normalized_user_movie_matrix = user_movie_matrix.sub(user_means, axis=0)\n",
        "normalized_user_movie_matrix"
      ]
    },
    {
      "cell_type": "code",
      "execution_count": 53,
      "id": "1b7f1671",
      "metadata": {
        "id": "1b7f1671"
      },
      "outputs": [],
      "source": [
        "# Apply SVD\n",
        "U, sigma, Vt = np.linalg.svd(normalized_user_movie_matrix)"
      ]
    },
    {
      "cell_type": "code",
      "execution_count": 54,
      "id": "0e0f7de7",
      "metadata": {
        "id": "0e0f7de7"
      },
      "outputs": [],
      "source": [
        "k= 3\n",
        "U_truncated = U[:, :k]\n",
        "sigma_truncated = np.diag(sigma[:k])\n",
        "Vt_truncated = Vt[:k, :]"
      ]
    },
    {
      "cell_type": "code",
      "execution_count": 55,
      "id": "6090d9bb",
      "metadata": {
        "id": "6090d9bb",
        "outputId": "7d086b22-3107-4087-8a9a-f415aef82204",
        "colab": {
          "base_uri": "https://localhost:8080/"
        }
      },
      "outputs": [
        {
          "output_type": "execute_result",
          "data": {
            "text/plain": [
              "array([[ 2.20329653e+00,  1.11321698e+00,  5.82673009e-01, ...,\n",
              "        -1.38324872e-01, -1.38324872e-01, -1.40354885e-01],\n",
              "       [ 1.56713909e-01,  1.06537004e-01, -4.08657215e-02, ...,\n",
              "        -1.08036344e-02, -1.08036344e-02, -7.39961710e-03],\n",
              "       [ 2.08868655e-02,  9.44303806e-03,  9.72885132e-03, ...,\n",
              "        -1.19910240e-03, -1.19910240e-03, -1.39962843e-03],\n",
              "       ...,\n",
              "       [ 3.55270550e+00,  1.83396409e+00,  5.64987176e-01, ...,\n",
              "        -2.46134961e-01, -2.46134961e-01, -2.33263574e-01],\n",
              "       [ 7.95473010e-01,  5.77031331e-01,  2.79390390e-01, ...,\n",
              "        -5.82376361e-03, -5.82376361e-03, -9.52744494e-03],\n",
              "       [ 2.43245774e+00,  1.32627467e+00, -5.77936132e-01, ...,\n",
              "        -2.34511947e-01, -2.34511947e-01, -1.84113599e-01]])"
            ]
          },
          "metadata": {},
          "execution_count": 55
        }
      ],
      "source": [
        "# Reconstruct the user-movie matrix from the reduced dimensions\n",
        "predicted_ratings = np.dot(np.dot(U_truncated, sigma_truncated), Vt_truncated)\n",
        "predicted_ratings"
      ]
    },
    {
      "cell_type": "code",
      "execution_count": 56,
      "id": "f63c16b2",
      "metadata": {
        "id": "f63c16b2",
        "outputId": "70efa525-f42f-4b94-c0a0-061eda240cd1",
        "colab": {
          "base_uri": "https://localhost:8080/",
          "height": 475
        }
      },
      "outputs": [
        {
          "output_type": "execute_result",
          "data": {
            "text/plain": [
              "movieId    1         2         3         4         5         6         7       \\\n",
              "userId                                                                          \n",
              "1        2.203297  1.113217  0.582673 -0.064489  0.277179  1.376391  0.512293   \n",
              "2        0.156714  0.106537 -0.040866 -0.019320 -0.010422 -0.013854 -0.061729   \n",
              "3        0.020887  0.009443  0.009729  0.000234  0.004331  0.018462  0.009893   \n",
              "4        0.796657  0.235586  0.239865 -0.068515  0.021476  0.699026  0.208604   \n",
              "5        0.993048  0.687738  0.358193  0.057878  0.283788  0.526109  0.360726   \n",
              "...           ...       ...       ...       ...       ...       ...       ...   \n",
              "606      1.553997  0.057240  0.144692 -0.354966 -0.366380  1.449082 -0.015633   \n",
              "607      1.537674  0.838650  0.449385 -0.013002  0.252288  0.940486  0.414025   \n",
              "608      3.552706  1.833964  0.564987 -0.198455  0.261152  1.798822  0.373121   \n",
              "609      0.795473  0.577031  0.279390  0.052588  0.238002  0.386906  0.281685   \n",
              "610      2.432458  1.326275 -0.577936 -0.388757 -0.316671  0.178964 -0.913364   \n",
              "\n",
              "movieId    8         9         10      ...    191005    193565    193571  \\\n",
              "userId                                 ...                                 \n",
              "1       -0.003337 -0.012294  1.594288  ... -0.140472 -0.138325 -0.139399   \n",
              "2       -0.011970 -0.022572 -0.013651  ... -0.010052 -0.010804 -0.010428   \n",
              "3        0.000634  0.001067  0.021823  ... -0.001264 -0.001199 -0.001232   \n",
              "4       -0.033242 -0.037737  0.502233  ... -0.085879 -0.084051 -0.084965   \n",
              "5        0.062252  0.076420  1.031284  ... -0.014615 -0.013607 -0.014111   \n",
              "...           ...       ...       ...  ...       ...       ...       ...   \n",
              "606     -0.228258 -0.291685  0.094132  ... -0.281578 -0.279200 -0.280389   \n",
              "607      0.021247  0.022483  1.236230  ... -0.081045 -0.079430 -0.080237   \n",
              "608     -0.078457 -0.140851  1.927707  ... -0.245877 -0.246135 -0.246006   \n",
              "609      0.054230  0.065386  0.832385  ... -0.006438 -0.005824 -0.006131   \n",
              "610     -0.248801 -0.415942 -0.358992  ... -0.224891 -0.234512 -0.229701   \n",
              "\n",
              "movieId    193573    193579    193581    193583    193585    193587    193609  \n",
              "userId                                                                         \n",
              "1       -0.139399 -0.138325 -0.139399 -0.138325 -0.138325 -0.138325 -0.140355  \n",
              "2       -0.010428 -0.010804 -0.010428 -0.010804 -0.010804 -0.010804 -0.007400  \n",
              "3       -0.001232 -0.001199 -0.001232 -0.001199 -0.001199 -0.001199 -0.001400  \n",
              "4       -0.084965 -0.084051 -0.084965 -0.084051 -0.084051 -0.084051 -0.086047  \n",
              "5       -0.014111 -0.013607 -0.014111 -0.013607 -0.013607 -0.013607 -0.018637  \n",
              "...           ...       ...       ...       ...       ...       ...       ...  \n",
              "606     -0.280389 -0.279200 -0.280389 -0.279200 -0.279200 -0.279200 -0.269173  \n",
              "607     -0.080237 -0.079430 -0.080237 -0.079430 -0.079430 -0.079430 -0.082687  \n",
              "608     -0.246006 -0.246135 -0.246006 -0.246135 -0.246135 -0.246135 -0.233264  \n",
              "609     -0.006131 -0.005824 -0.006131 -0.005824 -0.005824 -0.005824 -0.009527  \n",
              "610     -0.229701 -0.234512 -0.229701 -0.234512 -0.234512 -0.234512 -0.184114  \n",
              "\n",
              "[610 rows x 8983 columns]"
            ],
            "text/html": [
              "\n",
              "  <div id=\"df-a07e0d40-1c5f-49c2-b190-e384bc7fd34c\" class=\"colab-df-container\">\n",
              "    <div>\n",
              "<style scoped>\n",
              "    .dataframe tbody tr th:only-of-type {\n",
              "        vertical-align: middle;\n",
              "    }\n",
              "\n",
              "    .dataframe tbody tr th {\n",
              "        vertical-align: top;\n",
              "    }\n",
              "\n",
              "    .dataframe thead th {\n",
              "        text-align: right;\n",
              "    }\n",
              "</style>\n",
              "<table border=\"1\" class=\"dataframe\">\n",
              "  <thead>\n",
              "    <tr style=\"text-align: right;\">\n",
              "      <th>movieId</th>\n",
              "      <th>1</th>\n",
              "      <th>2</th>\n",
              "      <th>3</th>\n",
              "      <th>4</th>\n",
              "      <th>5</th>\n",
              "      <th>6</th>\n",
              "      <th>7</th>\n",
              "      <th>8</th>\n",
              "      <th>9</th>\n",
              "      <th>10</th>\n",
              "      <th>...</th>\n",
              "      <th>191005</th>\n",
              "      <th>193565</th>\n",
              "      <th>193571</th>\n",
              "      <th>193573</th>\n",
              "      <th>193579</th>\n",
              "      <th>193581</th>\n",
              "      <th>193583</th>\n",
              "      <th>193585</th>\n",
              "      <th>193587</th>\n",
              "      <th>193609</th>\n",
              "    </tr>\n",
              "    <tr>\n",
              "      <th>userId</th>\n",
              "      <th></th>\n",
              "      <th></th>\n",
              "      <th></th>\n",
              "      <th></th>\n",
              "      <th></th>\n",
              "      <th></th>\n",
              "      <th></th>\n",
              "      <th></th>\n",
              "      <th></th>\n",
              "      <th></th>\n",
              "      <th></th>\n",
              "      <th></th>\n",
              "      <th></th>\n",
              "      <th></th>\n",
              "      <th></th>\n",
              "      <th></th>\n",
              "      <th></th>\n",
              "      <th></th>\n",
              "      <th></th>\n",
              "      <th></th>\n",
              "      <th></th>\n",
              "    </tr>\n",
              "  </thead>\n",
              "  <tbody>\n",
              "    <tr>\n",
              "      <th>1</th>\n",
              "      <td>2.203297</td>\n",
              "      <td>1.113217</td>\n",
              "      <td>0.582673</td>\n",
              "      <td>-0.064489</td>\n",
              "      <td>0.277179</td>\n",
              "      <td>1.376391</td>\n",
              "      <td>0.512293</td>\n",
              "      <td>-0.003337</td>\n",
              "      <td>-0.012294</td>\n",
              "      <td>1.594288</td>\n",
              "      <td>...</td>\n",
              "      <td>-0.140472</td>\n",
              "      <td>-0.138325</td>\n",
              "      <td>-0.139399</td>\n",
              "      <td>-0.139399</td>\n",
              "      <td>-0.138325</td>\n",
              "      <td>-0.139399</td>\n",
              "      <td>-0.138325</td>\n",
              "      <td>-0.138325</td>\n",
              "      <td>-0.138325</td>\n",
              "      <td>-0.140355</td>\n",
              "    </tr>\n",
              "    <tr>\n",
              "      <th>2</th>\n",
              "      <td>0.156714</td>\n",
              "      <td>0.106537</td>\n",
              "      <td>-0.040866</td>\n",
              "      <td>-0.019320</td>\n",
              "      <td>-0.010422</td>\n",
              "      <td>-0.013854</td>\n",
              "      <td>-0.061729</td>\n",
              "      <td>-0.011970</td>\n",
              "      <td>-0.022572</td>\n",
              "      <td>-0.013651</td>\n",
              "      <td>...</td>\n",
              "      <td>-0.010052</td>\n",
              "      <td>-0.010804</td>\n",
              "      <td>-0.010428</td>\n",
              "      <td>-0.010428</td>\n",
              "      <td>-0.010804</td>\n",
              "      <td>-0.010428</td>\n",
              "      <td>-0.010804</td>\n",
              "      <td>-0.010804</td>\n",
              "      <td>-0.010804</td>\n",
              "      <td>-0.007400</td>\n",
              "    </tr>\n",
              "    <tr>\n",
              "      <th>3</th>\n",
              "      <td>0.020887</td>\n",
              "      <td>0.009443</td>\n",
              "      <td>0.009729</td>\n",
              "      <td>0.000234</td>\n",
              "      <td>0.004331</td>\n",
              "      <td>0.018462</td>\n",
              "      <td>0.009893</td>\n",
              "      <td>0.000634</td>\n",
              "      <td>0.001067</td>\n",
              "      <td>0.021823</td>\n",
              "      <td>...</td>\n",
              "      <td>-0.001264</td>\n",
              "      <td>-0.001199</td>\n",
              "      <td>-0.001232</td>\n",
              "      <td>-0.001232</td>\n",
              "      <td>-0.001199</td>\n",
              "      <td>-0.001232</td>\n",
              "      <td>-0.001199</td>\n",
              "      <td>-0.001199</td>\n",
              "      <td>-0.001199</td>\n",
              "      <td>-0.001400</td>\n",
              "    </tr>\n",
              "    <tr>\n",
              "      <th>4</th>\n",
              "      <td>0.796657</td>\n",
              "      <td>0.235586</td>\n",
              "      <td>0.239865</td>\n",
              "      <td>-0.068515</td>\n",
              "      <td>0.021476</td>\n",
              "      <td>0.699026</td>\n",
              "      <td>0.208604</td>\n",
              "      <td>-0.033242</td>\n",
              "      <td>-0.037737</td>\n",
              "      <td>0.502233</td>\n",
              "      <td>...</td>\n",
              "      <td>-0.085879</td>\n",
              "      <td>-0.084051</td>\n",
              "      <td>-0.084965</td>\n",
              "      <td>-0.084965</td>\n",
              "      <td>-0.084051</td>\n",
              "      <td>-0.084965</td>\n",
              "      <td>-0.084051</td>\n",
              "      <td>-0.084051</td>\n",
              "      <td>-0.084051</td>\n",
              "      <td>-0.086047</td>\n",
              "    </tr>\n",
              "    <tr>\n",
              "      <th>5</th>\n",
              "      <td>0.993048</td>\n",
              "      <td>0.687738</td>\n",
              "      <td>0.358193</td>\n",
              "      <td>0.057878</td>\n",
              "      <td>0.283788</td>\n",
              "      <td>0.526109</td>\n",
              "      <td>0.360726</td>\n",
              "      <td>0.062252</td>\n",
              "      <td>0.076420</td>\n",
              "      <td>1.031284</td>\n",
              "      <td>...</td>\n",
              "      <td>-0.014615</td>\n",
              "      <td>-0.013607</td>\n",
              "      <td>-0.014111</td>\n",
              "      <td>-0.014111</td>\n",
              "      <td>-0.013607</td>\n",
              "      <td>-0.014111</td>\n",
              "      <td>-0.013607</td>\n",
              "      <td>-0.013607</td>\n",
              "      <td>-0.013607</td>\n",
              "      <td>-0.018637</td>\n",
              "    </tr>\n",
              "    <tr>\n",
              "      <th>...</th>\n",
              "      <td>...</td>\n",
              "      <td>...</td>\n",
              "      <td>...</td>\n",
              "      <td>...</td>\n",
              "      <td>...</td>\n",
              "      <td>...</td>\n",
              "      <td>...</td>\n",
              "      <td>...</td>\n",
              "      <td>...</td>\n",
              "      <td>...</td>\n",
              "      <td>...</td>\n",
              "      <td>...</td>\n",
              "      <td>...</td>\n",
              "      <td>...</td>\n",
              "      <td>...</td>\n",
              "      <td>...</td>\n",
              "      <td>...</td>\n",
              "      <td>...</td>\n",
              "      <td>...</td>\n",
              "      <td>...</td>\n",
              "      <td>...</td>\n",
              "    </tr>\n",
              "    <tr>\n",
              "      <th>606</th>\n",
              "      <td>1.553997</td>\n",
              "      <td>0.057240</td>\n",
              "      <td>0.144692</td>\n",
              "      <td>-0.354966</td>\n",
              "      <td>-0.366380</td>\n",
              "      <td>1.449082</td>\n",
              "      <td>-0.015633</td>\n",
              "      <td>-0.228258</td>\n",
              "      <td>-0.291685</td>\n",
              "      <td>0.094132</td>\n",
              "      <td>...</td>\n",
              "      <td>-0.281578</td>\n",
              "      <td>-0.279200</td>\n",
              "      <td>-0.280389</td>\n",
              "      <td>-0.280389</td>\n",
              "      <td>-0.279200</td>\n",
              "      <td>-0.280389</td>\n",
              "      <td>-0.279200</td>\n",
              "      <td>-0.279200</td>\n",
              "      <td>-0.279200</td>\n",
              "      <td>-0.269173</td>\n",
              "    </tr>\n",
              "    <tr>\n",
              "      <th>607</th>\n",
              "      <td>1.537674</td>\n",
              "      <td>0.838650</td>\n",
              "      <td>0.449385</td>\n",
              "      <td>-0.013002</td>\n",
              "      <td>0.252288</td>\n",
              "      <td>0.940486</td>\n",
              "      <td>0.414025</td>\n",
              "      <td>0.021247</td>\n",
              "      <td>0.022483</td>\n",
              "      <td>1.236230</td>\n",
              "      <td>...</td>\n",
              "      <td>-0.081045</td>\n",
              "      <td>-0.079430</td>\n",
              "      <td>-0.080237</td>\n",
              "      <td>-0.080237</td>\n",
              "      <td>-0.079430</td>\n",
              "      <td>-0.080237</td>\n",
              "      <td>-0.079430</td>\n",
              "      <td>-0.079430</td>\n",
              "      <td>-0.079430</td>\n",
              "      <td>-0.082687</td>\n",
              "    </tr>\n",
              "    <tr>\n",
              "      <th>608</th>\n",
              "      <td>3.552706</td>\n",
              "      <td>1.833964</td>\n",
              "      <td>0.564987</td>\n",
              "      <td>-0.198455</td>\n",
              "      <td>0.261152</td>\n",
              "      <td>1.798822</td>\n",
              "      <td>0.373121</td>\n",
              "      <td>-0.078457</td>\n",
              "      <td>-0.140851</td>\n",
              "      <td>1.927707</td>\n",
              "      <td>...</td>\n",
              "      <td>-0.245877</td>\n",
              "      <td>-0.246135</td>\n",
              "      <td>-0.246006</td>\n",
              "      <td>-0.246006</td>\n",
              "      <td>-0.246135</td>\n",
              "      <td>-0.246006</td>\n",
              "      <td>-0.246135</td>\n",
              "      <td>-0.246135</td>\n",
              "      <td>-0.246135</td>\n",
              "      <td>-0.233264</td>\n",
              "    </tr>\n",
              "    <tr>\n",
              "      <th>609</th>\n",
              "      <td>0.795473</td>\n",
              "      <td>0.577031</td>\n",
              "      <td>0.279390</td>\n",
              "      <td>0.052588</td>\n",
              "      <td>0.238002</td>\n",
              "      <td>0.386906</td>\n",
              "      <td>0.281685</td>\n",
              "      <td>0.054230</td>\n",
              "      <td>0.065386</td>\n",
              "      <td>0.832385</td>\n",
              "      <td>...</td>\n",
              "      <td>-0.006438</td>\n",
              "      <td>-0.005824</td>\n",
              "      <td>-0.006131</td>\n",
              "      <td>-0.006131</td>\n",
              "      <td>-0.005824</td>\n",
              "      <td>-0.006131</td>\n",
              "      <td>-0.005824</td>\n",
              "      <td>-0.005824</td>\n",
              "      <td>-0.005824</td>\n",
              "      <td>-0.009527</td>\n",
              "    </tr>\n",
              "    <tr>\n",
              "      <th>610</th>\n",
              "      <td>2.432458</td>\n",
              "      <td>1.326275</td>\n",
              "      <td>-0.577936</td>\n",
              "      <td>-0.388757</td>\n",
              "      <td>-0.316671</td>\n",
              "      <td>0.178964</td>\n",
              "      <td>-0.913364</td>\n",
              "      <td>-0.248801</td>\n",
              "      <td>-0.415942</td>\n",
              "      <td>-0.358992</td>\n",
              "      <td>...</td>\n",
              "      <td>-0.224891</td>\n",
              "      <td>-0.234512</td>\n",
              "      <td>-0.229701</td>\n",
              "      <td>-0.229701</td>\n",
              "      <td>-0.234512</td>\n",
              "      <td>-0.229701</td>\n",
              "      <td>-0.234512</td>\n",
              "      <td>-0.234512</td>\n",
              "      <td>-0.234512</td>\n",
              "      <td>-0.184114</td>\n",
              "    </tr>\n",
              "  </tbody>\n",
              "</table>\n",
              "<p>610 rows × 8983 columns</p>\n",
              "</div>\n",
              "    <div class=\"colab-df-buttons\">\n",
              "\n",
              "  <div class=\"colab-df-container\">\n",
              "    <button class=\"colab-df-convert\" onclick=\"convertToInteractive('df-a07e0d40-1c5f-49c2-b190-e384bc7fd34c')\"\n",
              "            title=\"Convert this dataframe to an interactive table.\"\n",
              "            style=\"display:none;\">\n",
              "\n",
              "  <svg xmlns=\"http://www.w3.org/2000/svg\" height=\"24px\" viewBox=\"0 -960 960 960\">\n",
              "    <path d=\"M120-120v-720h720v720H120Zm60-500h600v-160H180v160Zm220 220h160v-160H400v160Zm0 220h160v-160H400v160ZM180-400h160v-160H180v160Zm440 0h160v-160H620v160ZM180-180h160v-160H180v160Zm440 0h160v-160H620v160Z\"/>\n",
              "  </svg>\n",
              "    </button>\n",
              "\n",
              "  <style>\n",
              "    .colab-df-container {\n",
              "      display:flex;\n",
              "      gap: 12px;\n",
              "    }\n",
              "\n",
              "    .colab-df-convert {\n",
              "      background-color: #E8F0FE;\n",
              "      border: none;\n",
              "      border-radius: 50%;\n",
              "      cursor: pointer;\n",
              "      display: none;\n",
              "      fill: #1967D2;\n",
              "      height: 32px;\n",
              "      padding: 0 0 0 0;\n",
              "      width: 32px;\n",
              "    }\n",
              "\n",
              "    .colab-df-convert:hover {\n",
              "      background-color: #E2EBFA;\n",
              "      box-shadow: 0px 1px 2px rgba(60, 64, 67, 0.3), 0px 1px 3px 1px rgba(60, 64, 67, 0.15);\n",
              "      fill: #174EA6;\n",
              "    }\n",
              "\n",
              "    .colab-df-buttons div {\n",
              "      margin-bottom: 4px;\n",
              "    }\n",
              "\n",
              "    [theme=dark] .colab-df-convert {\n",
              "      background-color: #3B4455;\n",
              "      fill: #D2E3FC;\n",
              "    }\n",
              "\n",
              "    [theme=dark] .colab-df-convert:hover {\n",
              "      background-color: #434B5C;\n",
              "      box-shadow: 0px 1px 3px 1px rgba(0, 0, 0, 0.15);\n",
              "      filter: drop-shadow(0px 1px 2px rgba(0, 0, 0, 0.3));\n",
              "      fill: #FFFFFF;\n",
              "    }\n",
              "  </style>\n",
              "\n",
              "    <script>\n",
              "      const buttonEl =\n",
              "        document.querySelector('#df-a07e0d40-1c5f-49c2-b190-e384bc7fd34c button.colab-df-convert');\n",
              "      buttonEl.style.display =\n",
              "        google.colab.kernel.accessAllowed ? 'block' : 'none';\n",
              "\n",
              "      async function convertToInteractive(key) {\n",
              "        const element = document.querySelector('#df-a07e0d40-1c5f-49c2-b190-e384bc7fd34c');\n",
              "        const dataTable =\n",
              "          await google.colab.kernel.invokeFunction('convertToInteractive',\n",
              "                                                    [key], {});\n",
              "        if (!dataTable) return;\n",
              "\n",
              "        const docLinkHtml = 'Like what you see? Visit the ' +\n",
              "          '<a target=\"_blank\" href=https://colab.research.google.com/notebooks/data_table.ipynb>data table notebook</a>'\n",
              "          + ' to learn more about interactive tables.';\n",
              "        element.innerHTML = '';\n",
              "        dataTable['output_type'] = 'display_data';\n",
              "        await google.colab.output.renderOutput(dataTable, element);\n",
              "        const docLink = document.createElement('div');\n",
              "        docLink.innerHTML = docLinkHtml;\n",
              "        element.appendChild(docLink);\n",
              "      }\n",
              "    </script>\n",
              "  </div>\n",
              "\n",
              "\n",
              "<div id=\"df-953ddef8-ed70-4697-86a3-8b3155fd6e4b\">\n",
              "  <button class=\"colab-df-quickchart\" onclick=\"quickchart('df-953ddef8-ed70-4697-86a3-8b3155fd6e4b')\"\n",
              "            title=\"Suggest charts\"\n",
              "            style=\"display:none;\">\n",
              "\n",
              "<svg xmlns=\"http://www.w3.org/2000/svg\" height=\"24px\"viewBox=\"0 0 24 24\"\n",
              "     width=\"24px\">\n",
              "    <g>\n",
              "        <path d=\"M19 3H5c-1.1 0-2 .9-2 2v14c0 1.1.9 2 2 2h14c1.1 0 2-.9 2-2V5c0-1.1-.9-2-2-2zM9 17H7v-7h2v7zm4 0h-2V7h2v10zm4 0h-2v-4h2v4z\"/>\n",
              "    </g>\n",
              "</svg>\n",
              "  </button>\n",
              "\n",
              "<style>\n",
              "  .colab-df-quickchart {\n",
              "      --bg-color: #E8F0FE;\n",
              "      --fill-color: #1967D2;\n",
              "      --hover-bg-color: #E2EBFA;\n",
              "      --hover-fill-color: #174EA6;\n",
              "      --disabled-fill-color: #AAA;\n",
              "      --disabled-bg-color: #DDD;\n",
              "  }\n",
              "\n",
              "  [theme=dark] .colab-df-quickchart {\n",
              "      --bg-color: #3B4455;\n",
              "      --fill-color: #D2E3FC;\n",
              "      --hover-bg-color: #434B5C;\n",
              "      --hover-fill-color: #FFFFFF;\n",
              "      --disabled-bg-color: #3B4455;\n",
              "      --disabled-fill-color: #666;\n",
              "  }\n",
              "\n",
              "  .colab-df-quickchart {\n",
              "    background-color: var(--bg-color);\n",
              "    border: none;\n",
              "    border-radius: 50%;\n",
              "    cursor: pointer;\n",
              "    display: none;\n",
              "    fill: var(--fill-color);\n",
              "    height: 32px;\n",
              "    padding: 0;\n",
              "    width: 32px;\n",
              "  }\n",
              "\n",
              "  .colab-df-quickchart:hover {\n",
              "    background-color: var(--hover-bg-color);\n",
              "    box-shadow: 0 1px 2px rgba(60, 64, 67, 0.3), 0 1px 3px 1px rgba(60, 64, 67, 0.15);\n",
              "    fill: var(--button-hover-fill-color);\n",
              "  }\n",
              "\n",
              "  .colab-df-quickchart-complete:disabled,\n",
              "  .colab-df-quickchart-complete:disabled:hover {\n",
              "    background-color: var(--disabled-bg-color);\n",
              "    fill: var(--disabled-fill-color);\n",
              "    box-shadow: none;\n",
              "  }\n",
              "\n",
              "  .colab-df-spinner {\n",
              "    border: 2px solid var(--fill-color);\n",
              "    border-color: transparent;\n",
              "    border-bottom-color: var(--fill-color);\n",
              "    animation:\n",
              "      spin 1s steps(1) infinite;\n",
              "  }\n",
              "\n",
              "  @keyframes spin {\n",
              "    0% {\n",
              "      border-color: transparent;\n",
              "      border-bottom-color: var(--fill-color);\n",
              "      border-left-color: var(--fill-color);\n",
              "    }\n",
              "    20% {\n",
              "      border-color: transparent;\n",
              "      border-left-color: var(--fill-color);\n",
              "      border-top-color: var(--fill-color);\n",
              "    }\n",
              "    30% {\n",
              "      border-color: transparent;\n",
              "      border-left-color: var(--fill-color);\n",
              "      border-top-color: var(--fill-color);\n",
              "      border-right-color: var(--fill-color);\n",
              "    }\n",
              "    40% {\n",
              "      border-color: transparent;\n",
              "      border-right-color: var(--fill-color);\n",
              "      border-top-color: var(--fill-color);\n",
              "    }\n",
              "    60% {\n",
              "      border-color: transparent;\n",
              "      border-right-color: var(--fill-color);\n",
              "    }\n",
              "    80% {\n",
              "      border-color: transparent;\n",
              "      border-right-color: var(--fill-color);\n",
              "      border-bottom-color: var(--fill-color);\n",
              "    }\n",
              "    90% {\n",
              "      border-color: transparent;\n",
              "      border-bottom-color: var(--fill-color);\n",
              "    }\n",
              "  }\n",
              "</style>\n",
              "\n",
              "  <script>\n",
              "    async function quickchart(key) {\n",
              "      const quickchartButtonEl =\n",
              "        document.querySelector('#' + key + ' button');\n",
              "      quickchartButtonEl.disabled = true;  // To prevent multiple clicks.\n",
              "      quickchartButtonEl.classList.add('colab-df-spinner');\n",
              "      try {\n",
              "        const charts = await google.colab.kernel.invokeFunction(\n",
              "            'suggestCharts', [key], {});\n",
              "      } catch (error) {\n",
              "        console.error('Error during call to suggestCharts:', error);\n",
              "      }\n",
              "      quickchartButtonEl.classList.remove('colab-df-spinner');\n",
              "      quickchartButtonEl.classList.add('colab-df-quickchart-complete');\n",
              "    }\n",
              "    (() => {\n",
              "      let quickchartButtonEl =\n",
              "        document.querySelector('#df-953ddef8-ed70-4697-86a3-8b3155fd6e4b button');\n",
              "      quickchartButtonEl.style.display =\n",
              "        google.colab.kernel.accessAllowed ? 'block' : 'none';\n",
              "    })();\n",
              "  </script>\n",
              "</div>\n",
              "\n",
              "  <div id=\"id_2d71bcc3-c2e5-489f-90ec-65f6246bf63e\">\n",
              "    <style>\n",
              "      .colab-df-generate {\n",
              "        background-color: #E8F0FE;\n",
              "        border: none;\n",
              "        border-radius: 50%;\n",
              "        cursor: pointer;\n",
              "        display: none;\n",
              "        fill: #1967D2;\n",
              "        height: 32px;\n",
              "        padding: 0 0 0 0;\n",
              "        width: 32px;\n",
              "      }\n",
              "\n",
              "      .colab-df-generate:hover {\n",
              "        background-color: #E2EBFA;\n",
              "        box-shadow: 0px 1px 2px rgba(60, 64, 67, 0.3), 0px 1px 3px 1px rgba(60, 64, 67, 0.15);\n",
              "        fill: #174EA6;\n",
              "      }\n",
              "\n",
              "      [theme=dark] .colab-df-generate {\n",
              "        background-color: #3B4455;\n",
              "        fill: #D2E3FC;\n",
              "      }\n",
              "\n",
              "      [theme=dark] .colab-df-generate:hover {\n",
              "        background-color: #434B5C;\n",
              "        box-shadow: 0px 1px 3px 1px rgba(0, 0, 0, 0.15);\n",
              "        filter: drop-shadow(0px 1px 2px rgba(0, 0, 0, 0.3));\n",
              "        fill: #FFFFFF;\n",
              "      }\n",
              "    </style>\n",
              "    <button class=\"colab-df-generate\" onclick=\"generateWithVariable('predicted_ratings_df')\"\n",
              "            title=\"Generate code using this dataframe.\"\n",
              "            style=\"display:none;\">\n",
              "\n",
              "  <svg xmlns=\"http://www.w3.org/2000/svg\" height=\"24px\"viewBox=\"0 0 24 24\"\n",
              "       width=\"24px\">\n",
              "    <path d=\"M7,19H8.4L18.45,9,17,7.55,7,17.6ZM5,21V16.75L18.45,3.32a2,2,0,0,1,2.83,0l1.4,1.43a1.91,1.91,0,0,1,.58,1.4,1.91,1.91,0,0,1-.58,1.4L9.25,21ZM18.45,9,17,7.55Zm-12,3A5.31,5.31,0,0,0,4.9,8.1,5.31,5.31,0,0,0,1,6.5,5.31,5.31,0,0,0,4.9,4.9,5.31,5.31,0,0,0,6.5,1,5.31,5.31,0,0,0,8.1,4.9,5.31,5.31,0,0,0,12,6.5,5.46,5.46,0,0,0,6.5,12Z\"/>\n",
              "  </svg>\n",
              "    </button>\n",
              "    <script>\n",
              "      (() => {\n",
              "      const buttonEl =\n",
              "        document.querySelector('#id_2d71bcc3-c2e5-489f-90ec-65f6246bf63e button.colab-df-generate');\n",
              "      buttonEl.style.display =\n",
              "        google.colab.kernel.accessAllowed ? 'block' : 'none';\n",
              "\n",
              "      buttonEl.onclick = () => {\n",
              "        google.colab.notebook.generateWithVariable('predicted_ratings_df');\n",
              "      }\n",
              "      })();\n",
              "    </script>\n",
              "  </div>\n",
              "\n",
              "    </div>\n",
              "  </div>\n"
            ],
            "application/vnd.google.colaboratory.intrinsic+json": {
              "type": "dataframe",
              "variable_name": "predicted_ratings_df"
            }
          },
          "metadata": {},
          "execution_count": 56
        }
      ],
      "source": [
        "# Convert the predicted ratings back to a DataFrame\n",
        "predicted_ratings_df = pd.DataFrame(predicted_ratings, columns=user_movie_matrix.columns, index=user_movie_matrix.index)\n",
        "predicted_ratings_df"
      ]
    },
    {
      "cell_type": "code",
      "execution_count": 57,
      "id": "0656c205",
      "metadata": {
        "id": "0656c205"
      },
      "outputs": [],
      "source": [
        "# Initialize an empty list to store predictions\n",
        "svd_predictions = []\n",
        "\n",
        "# Iterate through the test data and make predictions\n",
        "for _, row in test_data.iterrows():\n",
        "    user_id = row['userId']\n",
        "    movie_id = row['movieId']\n",
        "    # Check if the user-movie pair exists in the SVD-reconstructed matrix\n",
        "    if user_id in predicted_ratings_df.index and movie_id in predicted_ratings_df.columns:\n",
        "        prediction = predicted_ratings_df.at[user_id, movie_id]\n",
        "    else:\n",
        "        # Handle missing predictions (e.g., assign the mean rating)\n",
        "        prediction = train_data['rating'].mean()\n",
        "    svd_predictions.append(prediction)"
      ]
    },
    {
      "cell_type": "code",
      "execution_count": 58,
      "id": "73557259",
      "metadata": {
        "id": "73557259",
        "outputId": "abb868e0-09fc-4c27-a11b-e4769b97e302",
        "colab": {
          "base_uri": "https://localhost:8080/"
        }
      },
      "outputs": [
        {
          "output_type": "execute_result",
          "data": {
            "text/plain": [
              "20168"
            ]
          },
          "metadata": {},
          "execution_count": 58
        }
      ],
      "source": [
        "len(svd_predictions)"
      ]
    },
    {
      "cell_type": "code",
      "execution_count": 59,
      "id": "3db4cd97",
      "metadata": {
        "id": "3db4cd97",
        "outputId": "cdfbb1ee-0fe7-45c1-e61e-799fd9fe2ae5",
        "colab": {
          "base_uri": "https://localhost:8080/"
        }
      },
      "outputs": [
        {
          "output_type": "stream",
          "name": "stdout",
          "text": [
            "SVD RMSE: 3.064533626329387\n"
          ]
        }
      ],
      "source": [
        "svd_rmse = sqrt(mean_squared_error(test_data['rating'], svd_predictions))\n",
        "print(f'SVD RMSE: {svd_rmse}')"
      ]
    },
    {
      "cell_type": "markdown",
      "id": "74b55e44",
      "metadata": {
        "id": "74b55e44"
      },
      "source": [
        "Task to do:\n",
        "1. For SGD,  Lambda = 0.02 Gamma = 0.001 Epochs = 50, 100  K=3, Compute the initial and final RMSE with randomly initialized P and Q matrix. What is the effect of increasing the no. of epochs on RMSE?\n",
        "2. For SGD,  Lambda = 0.02 Gamma = 0.001 Epochs = 100  K=5 and 10, Compute the initial and final RMSE with randomly initialized P and Q matrix. What is the effect of increasing the no. of latent fcators on RMSE?\n",
        "3. For SGD,  Lambda = 0.05 Gamma = 0.001 Epochs = 50, 100  K=3, Compute the initial and final RMSE with randomly initialized P and Q matrix. What is the effect of increasing the lambda on RMSE?\n",
        "\n",
        "Repeat the same for Batch gradient, which optimizer is better for optimizing RMSE and why?\n",
        "\n",
        "Add user bias and item bias to the same and comment on effect on overall RMSE after adding bias to it.\n",
        "\n",
        "Can we say that \"Adding bias terms to user and item matrices in matrix factorization can potentially lead to a reduction in RMSE by allowing the model to capture systematic biases in the data\""
      ]
    },
    {
      "cell_type": "markdown",
      "source": [
        "# **STOCHASTIC GRADIENT DESCENT**"
      ],
      "metadata": {
        "id": "etIZgxtXSDSL"
      },
      "id": "etIZgxtXSDSL"
    },
    {
      "cell_type": "markdown",
      "source": [
        "## TASK 1:\n",
        "### Lambda = 0.02, Gamma= 0.001, Epochs= 50 and 100, K=3"
      ],
      "metadata": {
        "id": "XxjAQX_0JJdo"
      },
      "id": "XxjAQX_0JJdo"
    },
    {
      "cell_type": "markdown",
      "source": [
        "#### Effect of Epochs on RMSE with SGD"
      ],
      "metadata": {
        "id": "abHVRbIGQzzs"
      },
      "id": "abHVRbIGQzzs"
    },
    {
      "cell_type": "code",
      "source": [
        "# Parameters\n",
        "\n",
        "lam = 0.02\n",
        "gam = 0.001\n",
        "epochs_50 = 50\n",
        "epochs_100 = 100\n",
        "K = 3 #latent factors"
      ],
      "metadata": {
        "id": "Db6JYywmJVOP"
      },
      "id": "Db6JYywmJVOP",
      "execution_count": 62,
      "outputs": []
    },
    {
      "cell_type": "code",
      "source": [
        "# P and Q matrices random init\n",
        "P = np.random.rand(M, K)\n",
        "Q = np.random.rand(K, N)"
      ],
      "metadata": {
        "id": "98XI6ifSJcNn"
      },
      "id": "98XI6ifSJcNn",
      "execution_count": 63,
      "outputs": []
    },
    {
      "cell_type": "code",
      "source": [
        "def sgd_factorization(R, P, Q, K, epochs, gamma, lambda_):\n",
        "    initial_rmse = np.sqrt(error(R, P, Q) / len(R.data))\n",
        "    print(f'Initial RMSE for {epochs} epochs: {initial_rmse}')\n",
        "\n",
        "    for epoch in range(epochs):\n",
        "        for ui in range(len(R.data)):\n",
        "            rui = R.data[ui]\n",
        "            u = R.row[ui]\n",
        "            i = R.col[ui]\n",
        "            if rui > 0:\n",
        "                eui = rui - np.dot(P[u, :], Q[:, i])\n",
        "                # Update P and Q\n",
        "                P[u, :] += gamma * (eui * Q[:, i] - lambda_ * P[u, :])\n",
        "                Q[:, i] += gamma * (eui * P[u, :] - lambda_ * Q[:, i])\n",
        "\n",
        "    final_rmse = np.sqrt(error(R, P, Q) / len(R.data))\n",
        "    print(f'Final RMSE for {epochs} epochs: {final_rmse}')\n",
        "    return initial_rmse, final_rmse"
      ],
      "metadata": {
        "id": "P6L1_x3yPzS5"
      },
      "id": "P6L1_x3yPzS5",
      "execution_count": 64,
      "outputs": []
    },
    {
      "cell_type": "code",
      "source": [
        "# 50 Epochs\n",
        "rmse_50 = sgd_factorization(R, np.copy(P), np.copy(Q), K, epochs_50, gam, lam)"
      ],
      "metadata": {
        "colab": {
          "base_uri": "https://localhost:8080/"
        },
        "id": "xMdbypyRP_Xx",
        "outputId": "a802991f-dab4-4ae9-dc3f-db7bddbcc89f"
      },
      "id": "xMdbypyRP_Xx",
      "execution_count": 68,
      "outputs": [
        {
          "output_type": "stream",
          "name": "stdout",
          "text": [
            "Initial RMSE for 50 epochs: 2.9622918934352587\n",
            "Final RMSE for 50 epochs: 0.9369707419618892\n"
          ]
        }
      ]
    },
    {
      "cell_type": "code",
      "source": [
        "# 100 Epochs\n",
        "rmse_100 = sgd_factorization(R, np.copy(P), np.copy(Q), K, epochs_100, gam, lam)"
      ],
      "metadata": {
        "colab": {
          "base_uri": "https://localhost:8080/"
        },
        "id": "fOXfGW9AQEKQ",
        "outputId": "a80d257f-c25b-48f0-8a4c-face4e9d855f"
      },
      "id": "fOXfGW9AQEKQ",
      "execution_count": 66,
      "outputs": [
        {
          "output_type": "stream",
          "name": "stdout",
          "text": [
            "Initial RMSE for 100 epochs: 2.9622918934352587\n",
            "Final RMSE for 100 epochs: 0.9001344843335589\n"
          ]
        }
      ]
    },
    {
      "cell_type": "markdown",
      "source": [
        "## TASK 2:\n",
        "### Lambda = 0.02, Gamma= 0.001, Epochs= 100, K=5 and 10"
      ],
      "metadata": {
        "id": "LGZUCzRRQhhn"
      },
      "id": "LGZUCzRRQhhn"
    },
    {
      "cell_type": "markdown",
      "source": [
        "#### Effect of No of Latent Factors K on RMSE with SGD"
      ],
      "metadata": {
        "id": "SlpAmLcVQ3-M"
      },
      "id": "SlpAmLcVQ3-M"
    },
    {
      "cell_type": "code",
      "source": [
        "K_values = [5, 10]\n",
        "epochs = 100\n",
        "\n",
        "for K in K_values:\n",
        "    # Initialize P and Q matrices randomly for each value of K\n",
        "    P = np.random.rand(M, K)\n",
        "    Q = np.random.rand(K, N)\n",
        "    print(f'\\nRunning SGD with K={K} and {epochs} epochs')\n",
        "    sgd_factorization(R, np.copy(P), np.copy(Q), K, epochs, gam, lam)"
      ],
      "metadata": {
        "colab": {
          "base_uri": "https://localhost:8080/"
        },
        "id": "D01-OZRnQlcm",
        "outputId": "e9dc3142-d8e4-42e7-e738-b8b0b57601b5"
      },
      "id": "D01-OZRnQlcm",
      "execution_count": 69,
      "outputs": [
        {
          "output_type": "stream",
          "name": "stdout",
          "text": [
            "\n",
            "Running SGD with K=5 and 100 epochs\n",
            "Initial RMSE for 100 epochs: 2.567172472601697\n",
            "Final RMSE for 100 epochs: 0.8844427045699438\n",
            "\n",
            "Running SGD with K=10 and 100 epochs\n",
            "Initial RMSE for 100 epochs: 1.6560658721491417\n",
            "Final RMSE for 100 epochs: 0.86643905396896\n"
          ]
        }
      ]
    },
    {
      "cell_type": "markdown",
      "source": [
        "## TASK 3:\n",
        "### Lambda = 0.05, Gamma= 0.001, Epochs= 100, K=3"
      ],
      "metadata": {
        "id": "Fa8SSDG_RFLK"
      },
      "id": "Fa8SSDG_RFLK"
    },
    {
      "cell_type": "markdown",
      "source": [
        "#### Effect of No of Latent Factors K on RMSE with SGD"
      ],
      "metadata": {
        "id": "zKLYgkttRFLL"
      },
      "id": "zKLYgkttRFLL"
    },
    {
      "cell_type": "code",
      "source": [
        "lambda_values = [0.05]\n",
        "epochs_list = [50, 100]\n",
        "\n",
        "for lambda_ in lambda_values:\n",
        "    for epochs in epochs_list:\n",
        "        # Initialize P and Q matrices randomly\n",
        "        P = np.random.rand(M, K)\n",
        "        Q = np.random.rand(K, N)\n",
        "        print(f'\\nRunning SGD with lambda={lambda_}, epochs={epochs}')\n",
        "        sgd_factorization(R, np.copy(P), np.copy(Q), K, epochs, gam, lam)"
      ],
      "metadata": {
        "colab": {
          "base_uri": "https://localhost:8080/"
        },
        "id": "u4UoGZReRPjb",
        "outputId": "c07b9fb4-af37-4232-de17-3e863dac2ca6"
      },
      "id": "u4UoGZReRPjb",
      "execution_count": 71,
      "outputs": [
        {
          "output_type": "stream",
          "name": "stdout",
          "text": [
            "\n",
            "Running SGD with lambda=0.05, epochs=50\n",
            "Initial RMSE for 50 epochs: 1.6565672900056794\n",
            "Final RMSE for 50 epochs: 0.903657865093359\n",
            "\n",
            "Running SGD with lambda=0.05, epochs=100\n",
            "Initial RMSE for 100 epochs: 1.6358357602855196\n",
            "Final RMSE for 100 epochs: 0.867836861063577\n"
          ]
        }
      ]
    },
    {
      "cell_type": "code",
      "source": [],
      "metadata": {
        "id": "Lh1S6pX1RakE"
      },
      "id": "Lh1S6pX1RakE",
      "execution_count": null,
      "outputs": []
    },
    {
      "cell_type": "markdown",
      "source": [
        "# **BATCH GRADIENT DESCENT**"
      ],
      "metadata": {
        "id": "kOjjeGloSeUw"
      },
      "id": "kOjjeGloSeUw"
    },
    {
      "source": [
        "!pip install scipy\n",
        "import numpy as np\n",
        "from scipy.sparse import coo_matrix\n",
        "\n",
        "def batch_factorization(R, P, Q, K, epochs, gamma, lambda_):\n",
        "    initial_rmse = np.sqrt(error(R, P, Q) / len(R.data))\n",
        "    print(f'Initial RMSE (Batch) for {epochs} epochs: {initial_rmse}')\n",
        "\n",
        "    for epoch in range(epochs):\n",
        "        # Iterate through the non-zero elements of R using R.row, R.col, R.data\n",
        "        for u, i, rui in zip(R.row, R.col, R.data):\n",
        "            if rui > 0:\n",
        "                eui = rui - np.dot(P[u, :], Q[:, i])\n",
        "                P[u, :] += gamma * (eui * Q[:, i] - lambda_ * P[u, :])\n",
        "                Q[:, i] += gamma * (eui * P[u, :] - lambda_ * Q[:, i])\n",
        "\n",
        "    final_rmse = np.sqrt(error(R, P, Q) / len(R.data))\n",
        "    print(f'Final RMSE (Batch) for {epochs} epochs: {final_rmse}')\n",
        "    return initial_rmse, final_rmse"
      ],
      "cell_type": "code",
      "metadata": {
        "colab": {
          "base_uri": "https://localhost:8080/"
        },
        "id": "KahCrXQEVxeW",
        "outputId": "c44d239f-e992-4b4e-a88c-c8a99e0bd03a"
      },
      "id": "KahCrXQEVxeW",
      "execution_count": 78,
      "outputs": [
        {
          "output_type": "stream",
          "name": "stdout",
          "text": [
            "Requirement already satisfied: scipy in /usr/local/lib/python3.10/dist-packages (1.13.1)\n",
            "Requirement already satisfied: numpy<2.3,>=1.22.4 in /usr/local/lib/python3.10/dist-packages (from scipy) (1.26.4)\n"
          ]
        }
      ]
    },
    {
      "cell_type": "markdown",
      "source": [
        "## TASK 1:\n",
        "### Lambda = 0.02, Gamma= 0.001, Epochs= 50 and 100, K=3"
      ],
      "metadata": {
        "id": "GqMkuJJMS12x"
      },
      "id": "GqMkuJJMS12x"
    },
    {
      "cell_type": "markdown",
      "source": [
        "#### Effect of Epochs on RMSE with BGD"
      ],
      "metadata": {
        "id": "JhGloJIZS12x"
      },
      "id": "JhGloJIZS12x"
    },
    {
      "cell_type": "code",
      "source": [
        "batch_factorization(R, np.copy(P), np.copy(Q), K=3, epochs=50, gamma=0.001, lambda_=0.02)"
      ],
      "metadata": {
        "colab": {
          "base_uri": "https://localhost:8080/"
        },
        "id": "zEszCwZKS4zn",
        "outputId": "96ab2708-114c-48c9-e1a2-0cec42281680"
      },
      "id": "zEszCwZKS4zn",
      "execution_count": 79,
      "outputs": [
        {
          "output_type": "stream",
          "name": "stdout",
          "text": [
            "Initial RMSE (Batch) for 50 epochs: 1.6358357602855196\n",
            "Final RMSE (Batch) for 50 epochs: 0.9056513231844288\n"
          ]
        },
        {
          "output_type": "execute_result",
          "data": {
            "text/plain": [
              "(1.6358357602855196, 0.9056513231844288)"
            ]
          },
          "metadata": {},
          "execution_count": 79
        }
      ]
    },
    {
      "cell_type": "markdown",
      "source": [
        "## TASK 2:\n",
        "### Lambda = 0.02, Gamma= 0.001, Epochs= 100, K=5 and 10"
      ],
      "metadata": {
        "id": "4JvGuh4BWMLl"
      },
      "id": "4JvGuh4BWMLl"
    },
    {
      "cell_type": "markdown",
      "source": [
        "#### Effect of No of Latent Factors K on RMSE with SGD"
      ],
      "metadata": {
        "id": "lawI7OH8WMLm"
      },
      "id": "lawI7OH8WMLm"
    },
    {
      "cell_type": "code",
      "source": [
        "batch_factorization(R, np.copy(P), np.copy(Q), K=5, epochs=100, gamma=0.001, lambda_=0.02)"
      ],
      "metadata": {
        "colab": {
          "base_uri": "https://localhost:8080/"
        },
        "id": "rutorN4jVKZo",
        "outputId": "8b9e7a98-1464-4ded-f7bc-5287d5bec0cb"
      },
      "id": "rutorN4jVKZo",
      "execution_count": 81,
      "outputs": [
        {
          "output_type": "stream",
          "name": "stdout",
          "text": [
            "Initial RMSE (Batch) for 100 epochs: 1.6358357602855196\n",
            "Final RMSE (Batch) for 100 epochs: 0.867836861063577\n"
          ]
        },
        {
          "output_type": "execute_result",
          "data": {
            "text/plain": [
              "(1.6358357602855196, 0.867836861063577)"
            ]
          },
          "metadata": {},
          "execution_count": 81
        }
      ]
    },
    {
      "cell_type": "code",
      "source": [
        "batch_factorization(R, np.copy(P), np.copy(Q), K=10, epochs=100, gamma=0.001, lambda_=0.02)"
      ],
      "metadata": {
        "colab": {
          "base_uri": "https://localhost:8080/"
        },
        "id": "xoUjY-4CWPZ6",
        "outputId": "f13a9d04-76b3-4b7a-a7bd-cd57af7587de"
      },
      "id": "xoUjY-4CWPZ6",
      "execution_count": 82,
      "outputs": [
        {
          "output_type": "stream",
          "name": "stdout",
          "text": [
            "Initial RMSE (Batch) for 100 epochs: 1.6358357602855196\n",
            "Final RMSE (Batch) for 100 epochs: 0.867836861063577\n"
          ]
        },
        {
          "output_type": "execute_result",
          "data": {
            "text/plain": [
              "(1.6358357602855196, 0.867836861063577)"
            ]
          },
          "metadata": {},
          "execution_count": 82
        }
      ]
    },
    {
      "cell_type": "code",
      "source": [],
      "metadata": {
        "id": "uBAa5YRqWquu"
      },
      "id": "uBAa5YRqWquu",
      "execution_count": null,
      "outputs": []
    },
    {
      "cell_type": "markdown",
      "source": [
        "#CONCLUSION\n",
        "\n",
        "**Effect of Increasing Epochs:** More epochs improve convergence, lowering RMSE until a threshold.\n",
        "\n",
        "**Effect of Latent Factors (K):** Increasing K captures more detail, reducing RMSE up to a point before possibly overfitting.\n",
        "\n",
        "**Effect of Lambda:** Larger lambda values may prevent overfitting but could also slow learning.\n",
        "\n",
        "**Batch vs. SGD:** Batch tends to converge slower and may need more tuning in large datasets, while SGD is generally faster and better suited to sparse data.\n",
        "\n",
        "**Adding Bias:** Bias terms generally reduce RMSE as they capture user/item-specific patterns that latent factors might miss."
      ],
      "metadata": {
        "id": "qmb8HZJIWr8d"
      },
      "id": "qmb8HZJIWr8d"
    },
    {
      "cell_type": "code",
      "source": [],
      "metadata": {
        "id": "4mnqwukQWzeM"
      },
      "id": "4mnqwukQWzeM",
      "execution_count": null,
      "outputs": []
    }
  ],
  "metadata": {
    "kernelspec": {
      "display_name": "Python 3 (ipykernel)",
      "language": "python",
      "name": "python3"
    },
    "language_info": {
      "codemirror_mode": {
        "name": "ipython",
        "version": 3
      },
      "file_extension": ".py",
      "mimetype": "text/x-python",
      "name": "python",
      "nbconvert_exporter": "python",
      "pygments_lexer": "ipython3",
      "version": "3.9.12"
    },
    "colab": {
      "provenance": []
    }
  },
  "nbformat": 4,
  "nbformat_minor": 5
}